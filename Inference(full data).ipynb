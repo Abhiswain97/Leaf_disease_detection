{
 "cells": [
  {
   "cell_type": "code",
   "execution_count": 1,
   "metadata": {},
   "outputs": [],
   "source": [
    "import pandas as pd\n",
    "import seaborn as sns"
   ]
  },
  {
   "cell_type": "code",
   "execution_count": 2,
   "metadata": {},
   "outputs": [],
   "source": [
    "df = pd.read_csv('Leaf_data.csv')"
   ]
  },
  {
   "cell_type": "code",
   "execution_count": 3,
   "metadata": {},
   "outputs": [
    {
     "data": {
      "text/html": [
       "<div>\n",
       "<style scoped>\n",
       "    .dataframe tbody tr th:only-of-type {\n",
       "        vertical-align: middle;\n",
       "    }\n",
       "\n",
       "    .dataframe tbody tr th {\n",
       "        vertical-align: top;\n",
       "    }\n",
       "\n",
       "    .dataframe thead th {\n",
       "        text-align: right;\n",
       "    }\n",
       "</style>\n",
       "<table border=\"1\" class=\"dataframe\">\n",
       "  <thead>\n",
       "    <tr style=\"text-align: right;\">\n",
       "      <th></th>\n",
       "      <th>Unnamed: 0</th>\n",
       "      <th>Image</th>\n",
       "      <th>Label</th>\n",
       "    </tr>\n",
       "  </thead>\n",
       "  <tbody>\n",
       "    <tr>\n",
       "      <th>0</th>\n",
       "      <td>0</td>\n",
       "      <td>0b4a52e3-e15e-4117-b2e8-7cdb5dca3ce9___FREC_Sc...</td>\n",
       "      <td>Apple_scab</td>\n",
       "    </tr>\n",
       "    <tr>\n",
       "      <th>1</th>\n",
       "      <td>1</td>\n",
       "      <td>0c620ec5-11cf-4120-94ab-1311e99df147___FREC_Sc...</td>\n",
       "      <td>Apple_scab</td>\n",
       "    </tr>\n",
       "    <tr>\n",
       "      <th>2</th>\n",
       "      <td>2</td>\n",
       "      <td>0cbfa4fa-63d8-43ce-9385-ff140e524b69___FREC_Sc...</td>\n",
       "      <td>Apple_scab</td>\n",
       "    </tr>\n",
       "    <tr>\n",
       "      <th>3</th>\n",
       "      <td>3</td>\n",
       "      <td>0d3c0790-7833-470b-ac6e-94d0a3bf3e7c___FREC_Sc...</td>\n",
       "      <td>Apple_scab</td>\n",
       "    </tr>\n",
       "    <tr>\n",
       "      <th>4</th>\n",
       "      <td>4</td>\n",
       "      <td>0d8d5b80-962d-4381-8d3b-9eca3f2f1bb0___FREC_Sc...</td>\n",
       "      <td>Apple_scab</td>\n",
       "    </tr>\n",
       "    <tr>\n",
       "      <th>5</th>\n",
       "      <td>5</td>\n",
       "      <td>0db71c1d-93d7-4481-b0d0-b73f995131a9___FREC_Sc...</td>\n",
       "      <td>Apple_scab</td>\n",
       "    </tr>\n",
       "    <tr>\n",
       "      <th>6</th>\n",
       "      <td>6</td>\n",
       "      <td>0e90fe4a-e8b6-4186-9429-a9fea180af9a___FREC_Sc...</td>\n",
       "      <td>Apple_scab</td>\n",
       "    </tr>\n",
       "    <tr>\n",
       "      <th>7</th>\n",
       "      <td>7</td>\n",
       "      <td>0ea78733-9404-4536-8793-a108c66269b3___FREC_Sc...</td>\n",
       "      <td>Apple_scab</td>\n",
       "    </tr>\n",
       "    <tr>\n",
       "      <th>8</th>\n",
       "      <td>8</td>\n",
       "      <td>10072248-60e2-4190-b4df-14e8ab61008c___FREC_Sc...</td>\n",
       "      <td>Apple_scab</td>\n",
       "    </tr>\n",
       "    <tr>\n",
       "      <th>9</th>\n",
       "      <td>9</td>\n",
       "      <td>106aaa5f-c98d-482d-88ef-8e5170e9072d___FREC_Sc...</td>\n",
       "      <td>Apple_scab</td>\n",
       "    </tr>\n",
       "  </tbody>\n",
       "</table>\n",
       "</div>"
      ],
      "text/plain": [
       "   Unnamed: 0                                              Image       Label\n",
       "0           0  0b4a52e3-e15e-4117-b2e8-7cdb5dca3ce9___FREC_Sc...  Apple_scab\n",
       "1           1  0c620ec5-11cf-4120-94ab-1311e99df147___FREC_Sc...  Apple_scab\n",
       "2           2  0cbfa4fa-63d8-43ce-9385-ff140e524b69___FREC_Sc...  Apple_scab\n",
       "3           3  0d3c0790-7833-470b-ac6e-94d0a3bf3e7c___FREC_Sc...  Apple_scab\n",
       "4           4  0d8d5b80-962d-4381-8d3b-9eca3f2f1bb0___FREC_Sc...  Apple_scab\n",
       "5           5  0db71c1d-93d7-4481-b0d0-b73f995131a9___FREC_Sc...  Apple_scab\n",
       "6           6  0e90fe4a-e8b6-4186-9429-a9fea180af9a___FREC_Sc...  Apple_scab\n",
       "7           7  0ea78733-9404-4536-8793-a108c66269b3___FREC_Sc...  Apple_scab\n",
       "8           8  10072248-60e2-4190-b4df-14e8ab61008c___FREC_Sc...  Apple_scab\n",
       "9           9  106aaa5f-c98d-482d-88ef-8e5170e9072d___FREC_Sc...  Apple_scab"
      ]
     },
     "execution_count": 3,
     "metadata": {},
     "output_type": "execute_result"
    }
   ],
   "source": [
    "df.head(10)"
   ]
  },
  {
   "cell_type": "code",
   "execution_count": 4,
   "metadata": {},
   "outputs": [],
   "source": [
    "df.drop(['Unnamed: 0'], axis =1, inplace=True)"
   ]
  },
  {
   "cell_type": "code",
   "execution_count": 5,
   "metadata": {},
   "outputs": [],
   "source": [
    "df.to_csv('Leaf_data.csv')"
   ]
  },
  {
   "cell_type": "code",
   "execution_count": 6,
   "metadata": {},
   "outputs": [
    {
     "data": {
      "text/plain": [
       "Tomato_Yellow_Leaf_Curl_Virus           5327\n",
       "healthy                                 4823\n",
       "Late_blight                             2849\n",
       "Bacterial_spot                          2097\n",
       "Early_blight                            1940\n",
       "Black_rot                               1741\n",
       "Septoria_leaf_spot                      1741\n",
       "Spider_mites Two-spotted_spider_mite    1646\n",
       "Target_Spot                             1374\n",
       "Esca_(Black_Measles)                    1353\n",
       "Common_rust_                            1162\n",
       "Leaf_blight_(Isariopsis_Leaf_Spot)      1046\n",
       "Northern_Leaf_Blight                     955\n",
       "Leaf_Mold                                922\n",
       "Apple_scab                               600\n",
       "Cercospora_leaf_spot Gray_leaf_spot      483\n",
       "Tomato_mosaic_virus                      343\n",
       "Cedar_apple_rust                         245\n",
       "Name: Label, dtype: int64"
      ]
     },
     "execution_count": 6,
     "metadata": {},
     "output_type": "execute_result"
    }
   ],
   "source": [
    "df['Label'].value_counts()"
   ]
  },
  {
   "cell_type": "code",
   "execution_count": 7,
   "metadata": {},
   "outputs": [
    {
     "data": {
      "text/plain": [
       "array(['Apple_scab', 'Black_rot', 'Cedar_apple_rust', 'healthy',\n",
       "       'Cercospora_leaf_spot Gray_leaf_spot', 'Common_rust_',\n",
       "       'Northern_Leaf_Blight', 'Esca_(Black_Measles)',\n",
       "       'Leaf_blight_(Isariopsis_Leaf_Spot)', 'Early_blight',\n",
       "       'Late_blight', 'Bacterial_spot', 'Leaf_Mold', 'Septoria_leaf_spot',\n",
       "       'Spider_mites Two-spotted_spider_mite', 'Target_Spot',\n",
       "       'Tomato_Yellow_Leaf_Curl_Virus', 'Tomato_mosaic_virus'],\n",
       "      dtype=object)"
      ]
     },
     "execution_count": 7,
     "metadata": {},
     "output_type": "execute_result"
    }
   ],
   "source": [
    "df['Label'].unique()"
   ]
  },
  {
   "cell_type": "code",
   "execution_count": 8,
   "metadata": {},
   "outputs": [
    {
     "data": {
      "text/html": [
       "<div>\n",
       "<style scoped>\n",
       "    .dataframe tbody tr th:only-of-type {\n",
       "        vertical-align: middle;\n",
       "    }\n",
       "\n",
       "    .dataframe tbody tr th {\n",
       "        vertical-align: top;\n",
       "    }\n",
       "\n",
       "    .dataframe thead th {\n",
       "        text-align: right;\n",
       "    }\n",
       "</style>\n",
       "<table border=\"1\" class=\"dataframe\">\n",
       "  <thead>\n",
       "    <tr style=\"text-align: right;\">\n",
       "      <th></th>\n",
       "      <th>Image</th>\n",
       "      <th>Label</th>\n",
       "    </tr>\n",
       "  </thead>\n",
       "  <tbody>\n",
       "    <tr>\n",
       "      <th>0</th>\n",
       "      <td>0b4a52e3-e15e-4117-b2e8-7cdb5dca3ce9___FREC_Sc...</td>\n",
       "      <td>Apple_scab</td>\n",
       "    </tr>\n",
       "    <tr>\n",
       "      <th>1</th>\n",
       "      <td>0c620ec5-11cf-4120-94ab-1311e99df147___FREC_Sc...</td>\n",
       "      <td>Apple_scab</td>\n",
       "    </tr>\n",
       "    <tr>\n",
       "      <th>2</th>\n",
       "      <td>0cbfa4fa-63d8-43ce-9385-ff140e524b69___FREC_Sc...</td>\n",
       "      <td>Apple_scab</td>\n",
       "    </tr>\n",
       "    <tr>\n",
       "      <th>3</th>\n",
       "      <td>0d3c0790-7833-470b-ac6e-94d0a3bf3e7c___FREC_Sc...</td>\n",
       "      <td>Apple_scab</td>\n",
       "    </tr>\n",
       "    <tr>\n",
       "      <th>4</th>\n",
       "      <td>0d8d5b80-962d-4381-8d3b-9eca3f2f1bb0___FREC_Sc...</td>\n",
       "      <td>Apple_scab</td>\n",
       "    </tr>\n",
       "  </tbody>\n",
       "</table>\n",
       "</div>"
      ],
      "text/plain": [
       "                                               Image       Label\n",
       "0  0b4a52e3-e15e-4117-b2e8-7cdb5dca3ce9___FREC_Sc...  Apple_scab\n",
       "1  0c620ec5-11cf-4120-94ab-1311e99df147___FREC_Sc...  Apple_scab\n",
       "2  0cbfa4fa-63d8-43ce-9385-ff140e524b69___FREC_Sc...  Apple_scab\n",
       "3  0d3c0790-7833-470b-ac6e-94d0a3bf3e7c___FREC_Sc...  Apple_scab\n",
       "4  0d8d5b80-962d-4381-8d3b-9eca3f2f1bb0___FREC_Sc...  Apple_scab"
      ]
     },
     "execution_count": 8,
     "metadata": {},
     "output_type": "execute_result"
    }
   ],
   "source": [
    "df.head()"
   ]
  },
  {
   "cell_type": "code",
   "execution_count": 9,
   "metadata": {},
   "outputs": [],
   "source": [
    "label_dict = {}\n",
    "un_labels = df['Label'].unique()"
   ]
  },
  {
   "cell_type": "code",
   "execution_count": 10,
   "metadata": {},
   "outputs": [
    {
     "data": {
      "text/plain": [
       "array(['Apple_scab', 'Black_rot', 'Cedar_apple_rust', 'healthy',\n",
       "       'Cercospora_leaf_spot Gray_leaf_spot', 'Common_rust_',\n",
       "       'Northern_Leaf_Blight', 'Esca_(Black_Measles)',\n",
       "       'Leaf_blight_(Isariopsis_Leaf_Spot)', 'Early_blight',\n",
       "       'Late_blight', 'Bacterial_spot', 'Leaf_Mold', 'Septoria_leaf_spot',\n",
       "       'Spider_mites Two-spotted_spider_mite', 'Target_Spot',\n",
       "       'Tomato_Yellow_Leaf_Curl_Virus', 'Tomato_mosaic_virus'],\n",
       "      dtype=object)"
      ]
     },
     "execution_count": 10,
     "metadata": {},
     "output_type": "execute_result"
    }
   ],
   "source": [
    "un_labels"
   ]
  },
  {
   "cell_type": "code",
   "execution_count": 11,
   "metadata": {},
   "outputs": [],
   "source": [
    "for i, label in enumerate(un_labels, 0):\n",
    "    label_dict[label] = i"
   ]
  },
  {
   "cell_type": "code",
   "execution_count": 12,
   "metadata": {},
   "outputs": [
    {
     "data": {
      "text/plain": [
       "{'Apple_scab': 0,\n",
       " 'Black_rot': 1,\n",
       " 'Cedar_apple_rust': 2,\n",
       " 'healthy': 3,\n",
       " 'Cercospora_leaf_spot Gray_leaf_spot': 4,\n",
       " 'Common_rust_': 5,\n",
       " 'Northern_Leaf_Blight': 6,\n",
       " 'Esca_(Black_Measles)': 7,\n",
       " 'Leaf_blight_(Isariopsis_Leaf_Spot)': 8,\n",
       " 'Early_blight': 9,\n",
       " 'Late_blight': 10,\n",
       " 'Bacterial_spot': 11,\n",
       " 'Leaf_Mold': 12,\n",
       " 'Septoria_leaf_spot': 13,\n",
       " 'Spider_mites Two-spotted_spider_mite': 14,\n",
       " 'Target_Spot': 15,\n",
       " 'Tomato_Yellow_Leaf_Curl_Virus': 16,\n",
       " 'Tomato_mosaic_virus': 17}"
      ]
     },
     "execution_count": 12,
     "metadata": {},
     "output_type": "execute_result"
    }
   ],
   "source": [
    "label_dict"
   ]
  },
  {
   "cell_type": "code",
   "execution_count": 13,
   "metadata": {},
   "outputs": [],
   "source": [
    "df['Label'] = df['Label'].map(label_dict)"
   ]
  },
  {
   "cell_type": "code",
   "execution_count": 14,
   "metadata": {},
   "outputs": [
    {
     "data": {
      "text/plain": [
       "array([ 0,  1,  2,  3,  4,  5,  6,  7,  8,  9, 10, 11, 12, 13, 14, 15, 16,\n",
       "       17], dtype=int64)"
      ]
     },
     "execution_count": 14,
     "metadata": {},
     "output_type": "execute_result"
    }
   ],
   "source": [
    "df['Label'].unique()"
   ]
  },
  {
   "cell_type": "code",
   "execution_count": 15,
   "metadata": {},
   "outputs": [
    {
     "data": {
      "text/html": [
       "<div>\n",
       "<style scoped>\n",
       "    .dataframe tbody tr th:only-of-type {\n",
       "        vertical-align: middle;\n",
       "    }\n",
       "\n",
       "    .dataframe tbody tr th {\n",
       "        vertical-align: top;\n",
       "    }\n",
       "\n",
       "    .dataframe thead th {\n",
       "        text-align: right;\n",
       "    }\n",
       "</style>\n",
       "<table border=\"1\" class=\"dataframe\">\n",
       "  <thead>\n",
       "    <tr style=\"text-align: right;\">\n",
       "      <th></th>\n",
       "      <th>Image</th>\n",
       "      <th>Label</th>\n",
       "    </tr>\n",
       "  </thead>\n",
       "  <tbody>\n",
       "    <tr>\n",
       "      <th>0</th>\n",
       "      <td>0b4a52e3-e15e-4117-b2e8-7cdb5dca3ce9___FREC_Sc...</td>\n",
       "      <td>0</td>\n",
       "    </tr>\n",
       "    <tr>\n",
       "      <th>1</th>\n",
       "      <td>0c620ec5-11cf-4120-94ab-1311e99df147___FREC_Sc...</td>\n",
       "      <td>0</td>\n",
       "    </tr>\n",
       "    <tr>\n",
       "      <th>2</th>\n",
       "      <td>0cbfa4fa-63d8-43ce-9385-ff140e524b69___FREC_Sc...</td>\n",
       "      <td>0</td>\n",
       "    </tr>\n",
       "    <tr>\n",
       "      <th>3</th>\n",
       "      <td>0d3c0790-7833-470b-ac6e-94d0a3bf3e7c___FREC_Sc...</td>\n",
       "      <td>0</td>\n",
       "    </tr>\n",
       "    <tr>\n",
       "      <th>4</th>\n",
       "      <td>0d8d5b80-962d-4381-8d3b-9eca3f2f1bb0___FREC_Sc...</td>\n",
       "      <td>0</td>\n",
       "    </tr>\n",
       "    <tr>\n",
       "      <th>5</th>\n",
       "      <td>0db71c1d-93d7-4481-b0d0-b73f995131a9___FREC_Sc...</td>\n",
       "      <td>0</td>\n",
       "    </tr>\n",
       "    <tr>\n",
       "      <th>6</th>\n",
       "      <td>0e90fe4a-e8b6-4186-9429-a9fea180af9a___FREC_Sc...</td>\n",
       "      <td>0</td>\n",
       "    </tr>\n",
       "    <tr>\n",
       "      <th>7</th>\n",
       "      <td>0ea78733-9404-4536-8793-a108c66269b3___FREC_Sc...</td>\n",
       "      <td>0</td>\n",
       "    </tr>\n",
       "    <tr>\n",
       "      <th>8</th>\n",
       "      <td>10072248-60e2-4190-b4df-14e8ab61008c___FREC_Sc...</td>\n",
       "      <td>0</td>\n",
       "    </tr>\n",
       "    <tr>\n",
       "      <th>9</th>\n",
       "      <td>106aaa5f-c98d-482d-88ef-8e5170e9072d___FREC_Sc...</td>\n",
       "      <td>0</td>\n",
       "    </tr>\n",
       "  </tbody>\n",
       "</table>\n",
       "</div>"
      ],
      "text/plain": [
       "                                               Image  Label\n",
       "0  0b4a52e3-e15e-4117-b2e8-7cdb5dca3ce9___FREC_Sc...      0\n",
       "1  0c620ec5-11cf-4120-94ab-1311e99df147___FREC_Sc...      0\n",
       "2  0cbfa4fa-63d8-43ce-9385-ff140e524b69___FREC_Sc...      0\n",
       "3  0d3c0790-7833-470b-ac6e-94d0a3bf3e7c___FREC_Sc...      0\n",
       "4  0d8d5b80-962d-4381-8d3b-9eca3f2f1bb0___FREC_Sc...      0\n",
       "5  0db71c1d-93d7-4481-b0d0-b73f995131a9___FREC_Sc...      0\n",
       "6  0e90fe4a-e8b6-4186-9429-a9fea180af9a___FREC_Sc...      0\n",
       "7  0ea78733-9404-4536-8793-a108c66269b3___FREC_Sc...      0\n",
       "8  10072248-60e2-4190-b4df-14e8ab61008c___FREC_Sc...      0\n",
       "9  106aaa5f-c98d-482d-88ef-8e5170e9072d___FREC_Sc...      0"
      ]
     },
     "execution_count": 15,
     "metadata": {},
     "output_type": "execute_result"
    }
   ],
   "source": [
    "df.head(10)"
   ]
  },
  {
   "cell_type": "code",
   "execution_count": 16,
   "metadata": {},
   "outputs": [
    {
     "data": {
      "text/plain": [
       "<matplotlib.axes._subplots.AxesSubplot at 0x284a328b088>"
      ]
     },
     "execution_count": 16,
     "metadata": {},
     "output_type": "execute_result"
    },
    {
     "data": {
      "image/png": "[encoded data removed]",
      "text/plain": [
       "<Figure size 432x288 with 1 Axes>"
      ]
     },
     "metadata": {},
     "output_type": "display_data"
    }
   ],
   "source": [
    "sns.set_style('whitegrid')\n",
    "sns.distplot(df['Label'])"
   ]
  },
  {
   "cell_type": "code",
   "execution_count": 17,
   "metadata": {},
   "outputs": [],
   "source": [
    "path = r'D:\\Custom-Train-Test(color)'"
   ]
  },
  {
   "cell_type": "code",
   "execution_count": 19,
   "metadata": {},
   "outputs": [],
   "source": [
    "import cv2\n",
    "import os\n"
   ]
  },
  {
   "cell_type": "code",
   "execution_count": 20,
   "metadata": {},
   "outputs": [],
   "source": [
    "folders = os.listdir(path)"
   ]
  },
  {
   "cell_type": "code",
   "execution_count": 22,
   "metadata": {},
   "outputs": [
    {
     "data": {
      "text/plain": [
       "['Test', 'Train']"
      ]
     },
     "execution_count": 22,
     "metadata": {},
     "output_type": "execute_result"
    }
   ],
   "source": [
    "folders"
   ]
  },
  {
   "cell_type": "code",
   "execution_count": null,
   "metadata": {},
   "outputs": [],
   "source": [
    "for folder, _ , files in os.walk(path):\n",
    "    print(f'Folder: {folder} \\n Files: {files}')\n",
    "    print('\\n')"
   ]
  },
  {
   "cell_type": "code",
   "execution_count": 34,
   "metadata": {},
   "outputs": [],
   "source": [
    "image = cv2.imread(r'D:\\Custom-Train-Test(color)\\Train\\Apple___Apple_scab\\0b4a52e3-e15e-4117-b2e8-7cdb5dca3ce9___FREC_Scab 3137.JPG')"
   ]
  },
  {
   "cell_type": "code",
   "execution_count": 38,
   "metadata": {},
   "outputs": [],
   "source": [
    "cv2.imshow('Leaf',image)"
   ]
  },
  {
   "cell_type": "code",
   "execution_count": null,
   "metadata": {},
   "outputs": [],
   "source": []
  }
 ],
 "metadata": {
  "kernelspec": {
   "display_name": "Python 3",
   "language": "python",
   "name": "python3"
  },
  "language_info": {
   "codemirror_mode": {
    "name": "ipython",
    "version": 3
   },
   "file_extension": ".py",
   "mimetype": "text/x-python",
   "name": "python",
   "nbconvert_exporter": "python",
   "pygments_lexer": "ipython3",
   "version": "3.7.5"
  }
 },
 "nbformat": 4,
 "nbformat_minor": 4
}
