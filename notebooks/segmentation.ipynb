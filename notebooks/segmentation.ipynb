{
 "cells": [
  {
   "cell_type": "code",
   "execution_count": 3,
   "metadata": {},
   "outputs": [],
   "source": [
    "import os\n",
    "import cv2\n",
    "import pandas as pd"
   ]
  },
  {
   "cell_type": "code",
   "execution_count": 4,
   "metadata": {},
   "outputs": [],
   "source": [
    "path = r'E:\\Btech project\\leaf-disease\\feature_files\\features(multiclass_classify)(RGB).csv'"
   ]
  },
  {
   "cell_type": "code",
   "execution_count": 5,
   "metadata": {},
   "outputs": [],
   "source": [
    "df = pd.read_csv(path)"
   ]
  },
  {
   "cell_type": "code",
   "execution_count": 6,
   "metadata": {},
   "outputs": [
    {
     "data": {
      "text/html": [
       "<div>\n",
       "<style scoped>\n",
       "    .dataframe tbody tr th:only-of-type {\n",
       "        vertical-align: middle;\n",
       "    }\n",
       "\n",
       "    .dataframe tbody tr th {\n",
       "        vertical-align: top;\n",
       "    }\n",
       "\n",
       "    .dataframe thead th {\n",
       "        text-align: right;\n",
       "    }\n",
       "</style>\n",
       "<table border=\"1\" class=\"dataframe\">\n",
       "  <thead>\n",
       "    <tr style=\"text-align: right;\">\n",
       "      <th></th>\n",
       "      <th>name</th>\n",
       "      <th>contrast</th>\n",
       "      <th>dissimilarity</th>\n",
       "      <th>homogeneity</th>\n",
       "      <th>ASM</th>\n",
       "      <th>energy</th>\n",
       "      <th>label</th>\n",
       "    </tr>\n",
       "  </thead>\n",
       "  <tbody>\n",
       "    <tr>\n",
       "      <th>0</th>\n",
       "      <td>DSC_0100_Brown spot_34_multiclass.npy</td>\n",
       "      <td>3.223639</td>\n",
       "      <td>0.170918</td>\n",
       "      <td>0.998858</td>\n",
       "      <td>0.974272</td>\n",
       "      <td>0.987052</td>\n",
       "      <td>1</td>\n",
       "    </tr>\n",
       "    <tr>\n",
       "      <th>1</th>\n",
       "      <td>DSC_0100_Brown spot_35_multiclass.npy</td>\n",
       "      <td>2.065076</td>\n",
       "      <td>0.112742</td>\n",
       "      <td>0.999272</td>\n",
       "      <td>0.980139</td>\n",
       "      <td>0.990020</td>\n",
       "      <td>1</td>\n",
       "    </tr>\n",
       "    <tr>\n",
       "      <th>2</th>\n",
       "      <td>DSC_0100_Brown spot_43_multiclass.npy</td>\n",
       "      <td>2.726757</td>\n",
       "      <td>0.145004</td>\n",
       "      <td>0.998680</td>\n",
       "      <td>0.974958</td>\n",
       "      <td>0.987399</td>\n",
       "      <td>1</td>\n",
       "    </tr>\n",
       "    <tr>\n",
       "      <th>3</th>\n",
       "      <td>DSC_0100_Brown spot_45_multiclass.npy</td>\n",
       "      <td>0.822008</td>\n",
       "      <td>0.128753</td>\n",
       "      <td>0.987073</td>\n",
       "      <td>0.963744</td>\n",
       "      <td>0.981705</td>\n",
       "      <td>1</td>\n",
       "    </tr>\n",
       "    <tr>\n",
       "      <th>4</th>\n",
       "      <td>DSC_0100_Brown spot_46_multiclass.npy</td>\n",
       "      <td>1.567647</td>\n",
       "      <td>0.160889</td>\n",
       "      <td>0.988569</td>\n",
       "      <td>0.968246</td>\n",
       "      <td>0.983995</td>\n",
       "      <td>1</td>\n",
       "    </tr>\n",
       "  </tbody>\n",
       "</table>\n",
       "</div>"
      ],
      "text/plain": [
       "                                    name  contrast  dissimilarity  \\\n",
       "0  DSC_0100_Brown spot_34_multiclass.npy  3.223639       0.170918   \n",
       "1  DSC_0100_Brown spot_35_multiclass.npy  2.065076       0.112742   \n",
       "2  DSC_0100_Brown spot_43_multiclass.npy  2.726757       0.145004   \n",
       "3  DSC_0100_Brown spot_45_multiclass.npy  0.822008       0.128753   \n",
       "4  DSC_0100_Brown spot_46_multiclass.npy  1.567647       0.160889   \n",
       "\n",
       "   homogeneity       ASM    energy  label  \n",
       "0     0.998858  0.974272  0.987052      1  \n",
       "1     0.999272  0.980139  0.990020      1  \n",
       "2     0.998680  0.974958  0.987399      1  \n",
       "3     0.987073  0.963744  0.981705      1  \n",
       "4     0.988569  0.968246  0.983995      1  "
      ]
     },
     "execution_count": 6,
     "metadata": {},
     "output_type": "execute_result"
    }
   ],
   "source": [
    "df.head()"
   ]
  },
  {
   "cell_type": "code",
   "execution_count": 10,
   "metadata": {},
   "outputs": [
    {
     "data": {
      "text/plain": [
       "array([1116,  761,  604], dtype=int64)"
      ]
     },
     "execution_count": 10,
     "metadata": {},
     "output_type": "execute_result"
    }
   ],
   "source": [
    "df['label'].value_counts().values"
   ]
  },
  {
   "cell_type": "code",
   "execution_count": 21,
   "metadata": {},
   "outputs": [],
   "source": [
    "class_weights = sorted(df['label'].unique())/sum(sorted(df['label'].value_counts().values))"
   ]
  },
  {
   "cell_type": "code",
   "execution_count": 22,
   "metadata": {},
   "outputs": [
    {
     "data": {
      "text/plain": [
       "array([0.        , 0.00040306, 0.00080613])"
      ]
     },
     "execution_count": 22,
     "metadata": {},
     "output_type": "execute_result"
    }
   ],
   "source": [
    "class_weights"
   ]
  },
  {
   "cell_type": "code",
   "execution_count": 19,
   "metadata": {},
   "outputs": [
    {
     "data": {
      "text/plain": [
       "[0, 1, 2]"
      ]
     },
     "execution_count": 19,
     "metadata": {},
     "output_type": "execute_result"
    }
   ],
   "source": [
    "sorted(df['label'].unique())"
   ]
  },
  {
   "cell_type": "code",
   "execution_count": 25,
   "metadata": {},
   "outputs": [
    {
     "data": {
      "text/plain": [
       "[604, 761, 1116]"
      ]
     },
     "execution_count": 25,
     "metadata": {},
     "output_type": "execute_result"
    }
   ],
   "source": [
    "sorted(df['label'].value_counts().values)"
   ]
  },
  {
   "cell_type": "code",
   "execution_count": 26,
   "metadata": {},
   "outputs": [
    {
     "data": {
      "text/plain": [
       "(0.2434502216848045, 0.3067311567916163, 0.4498186215235792)"
      ]
     },
     "execution_count": 26,
     "metadata": {},
     "output_type": "execute_result"
    }
   ],
   "source": [
    " 604/2481,  761/2481, 1116/2481"
   ]
  },
  {
   "cell_type": "code",
   "execution_count": null,
   "metadata": {},
   "outputs": [],
   "source": []
  }
 ],
 "metadata": {
  "kernelspec": {
   "display_name": "Python 3",
   "language": "python",
   "name": "python3"
  },
  "language_info": {
   "codemirror_mode": {
    "name": "ipython",
    "version": 3
   },
   "file_extension": ".py",
   "mimetype": "text/x-python",
   "name": "python",
   "nbconvert_exporter": "python",
   "pygments_lexer": "ipython3",
   "version": "3.8.2"
  }
 },
 "nbformat": 4,
 "nbformat_minor": 4
}
