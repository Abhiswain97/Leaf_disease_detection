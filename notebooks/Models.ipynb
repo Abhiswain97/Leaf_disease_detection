{
 "cells": [
  {
   "cell_type": "code",
   "execution_count": 1,
   "metadata": {},
   "outputs": [],
   "source": [
    "import warnings\n",
    "warnings.filterwarnings(\"ignore\")\n",
    "\n",
    "# tree based classifier\n",
    "import xgboost as xgb\n",
    "from sklearn.tree import ExtraTreeClassifier\n",
    "from sklearn.tree import DecisionTreeClassifier\n",
    "from sklearn.neural_network.multilayer_perceptron import MLPClassifier\n",
    "from sklearn.neighbors.classification import KNeighborsClassifier\n",
    "from sklearn.multiclass import OneVsRestClassifier\n",
    "from sklearn.linear_model.ridge import RidgeClassifier \n",
    "from sklearn.gaussian_process.gpc import GaussianProcessClassifier\n",
    "\n",
    "# ensemble classifiers\n",
    "from sklearn.ensemble.weight_boosting import AdaBoostClassifier\n",
    "from sklearn.ensemble.gradient_boosting import GradientBoostingClassifier\n",
    "from sklearn.ensemble.bagging import BaggingClassifier\n",
    "from sklearn.ensemble.forest import ExtraTreesClassifier\n",
    "from sklearn.ensemble.forest import RandomForestClassifier\n",
    "\n",
    "# linear classifiers\n",
    "from sklearn.svm import LinearSVC, SVC\n",
    "from sklearn.linear_model import LogisticRegression\n",
    "from sklearn.discriminant_analysis import LinearDiscriminantAnalysis\n",
    "from sklearn.naive_bayes import GaussianNB\n",
    "from sklearn.linear_model import Perceptron\n",
    "\n",
    "from sklearn.metrics import f1_score, accuracy_score, roc_auc_score, confusion_matrix, roc_curve, auc\n",
    "from sklearn.model_selection import train_test_split, StratifiedKFold, cross_val_predict, cross_val_score, cross_validate\n",
    "\n",
    "from sklearn.preprocessing import StandardScaler\n"
   ]
  },
  {
   "cell_type": "code",
   "execution_count": 2,
   "metadata": {},
   "outputs": [],
   "source": [
    "from imblearn.over_sampling import SMOTE, ADASYN\n",
    "from imblearn.under_sampling import TomekLinks\n",
    "from imblearn.combine import SMOTETomek\n",
    "from imblearn.metrics import sensitivity_specificity_support, geometric_mean_score, classification_report_imbalanced\n",
    "from imblearn.pipeline import Pipeline, make_pipeline"
   ]
  },
  {
   "cell_type": "code",
   "execution_count": 3,
   "metadata": {},
   "outputs": [],
   "source": [
    "import seaborn as sns"
   ]
  },
  {
   "cell_type": "code",
   "execution_count": 4,
   "metadata": {},
   "outputs": [],
   "source": [
    "import numpy as np\n",
    "import matplotlib.pyplot as plt\n",
    "import pandas as pd"
   ]
  },
  {
   "cell_type": "code",
   "execution_count": 5,
   "metadata": {},
   "outputs": [],
   "source": [
    "from scipy.stats import spearmanr, pearsonr"
   ]
  },
  {
   "cell_type": "code",
   "execution_count": 18,
   "metadata": {},
   "outputs": [],
   "source": [
    "from collections import Counter\n",
    "import os\n",
    "import sys"
   ]
  },
  {
   "cell_type": "markdown",
   "metadata": {},
   "source": [
    "### If u want to try it out for  yourself, all you need to do is clone the repo and specify the `base_dir` variable below"
   ]
  },
  {
   "cell_type": "code",
   "execution_count": 24,
   "metadata": {},
   "outputs": [],
   "source": [
    "base_dir = \"E:\\\\Btech project\\\\leaf_disease\\\\feature_files\" # Specify your own directory root\n",
    "binary_file = base_dir + r\"\\new_glcm(binary).csv\"\n",
    "multiclass_file = base_dir + r\"\\new_glcm(multiclass).csv\""
   ]
  },
  {
   "cell_type": "code",
   "execution_count": 22,
   "metadata": {},
   "outputs": [],
   "source": [
    "labels = ['True Neg','False Pos','False Neg','True Pos']\n",
    "categories = ['Zero', 'One']"
   ]
  },
  {
   "cell_type": "code",
   "execution_count": 23,
   "metadata": {},
   "outputs": [],
   "source": [
    "b_df = pd.read_csv(binary_file)\n",
    "m_df = pd.read_csv(multiclass_file)"
   ]
  },
  {
   "cell_type": "code",
   "execution_count": 26,
   "metadata": {},
   "outputs": [],
   "source": [
    "def pipeline_prediction(X, y, model, sampler=None, plot_confusion_matrix=False, filename=None):\n",
    "    \n",
    "    pipe = Pipeline([('scaler', StandardScaler()), ('sampler', sampler), ('model', model)])\n",
    "    \n",
    "    X_train, X_test, y_train, y_test = train_test_split(X, y, test_size=0.33, random_state=42, stratify=y)\n",
    "    \n",
    "    print(f\"Before sampling: {Counter(y_train)}\") \n",
    "\n",
    "    pipe.fit(X_train, y_train)\n",
    "\n",
    "    get_metrics(y_true=y_test, y_pred=pipe.predict(X_test), plot_confusion_matrix=plot_confusion_matrix, file_name=filename)\n",
    "    \n",
    "    # return pipeline for direct prediction, skipping the details\n",
    "    # receive the piepline and can call `get_metrics()` normally\n",
    "    return pipe\n",
    "    "
   ]
  },
  {
   "cell_type": "code",
   "execution_count": 29,
   "metadata": {},
   "outputs": [],
   "source": [
    "def get_metrics(y_true, y_pred, y_score=None, file_name=None, plot_confusion_matrix=False):\n",
    "    \n",
    "    print(f'Accuracy: {accuracy_score(y_true=y_true, y_pred=y_pred)}')\n",
    "   \n",
    "    print(classification_report_imbalanced(y_true=y_true, y_pred=y_pred))\n",
    "    \n",
    "    if y_score is not None:\n",
    "        print(f\"Roc-auc-score: {roc_auc_score(y_pred, y_score=y_score)}\")\n",
    "        plot_roc_curve(y_true=y_true, y_proba=y_score, n_classes=len(np.unique(y_true)))\n",
    "    \n",
    "    labels = ['True Neg','False Pos','False Neg','True Pos']\n",
    "    \n",
    "    if plot_confusion_matrix:\n",
    "        if len(np.unique(y_true)) > 2:\n",
    "            categories = ['Zero', 'One', 'Two']\n",
    "        else:\n",
    "            categories = ['Zero', 'One']\n",
    "\n",
    "        cf_matrix = confusion_matrix(y_true, y_pred)\n",
    "        make_confusion_matrix(cf_matrix, \n",
    "                              group_names=labels,\n",
    "                              categories=categories, \n",
    "                              cmap='Blues', fig_name=file_name)\n"
   ]
  },
  {
   "cell_type": "code",
   "execution_count": 30,
   "metadata": {},
   "outputs": [],
   "source": [
    "# Taken from: https://github.com/DTrimarchi10/confusion_matrix/blob/master/cf_matrix.py\n",
    "def make_confusion_matrix(cf,\n",
    "                          group_names=None,\n",
    "                          categories='auto',\n",
    "                          count=True,\n",
    "                          percent=True,\n",
    "                          cbar=True,\n",
    "                          xyticks=True,\n",
    "                          xyplotlabels=True,\n",
    "                          sum_stats=True,\n",
    "                          figsize=None,\n",
    "                          cmap='Blues',\n",
    "                          title=None,\n",
    "                          fig_name=None):\n",
    "    '''\n",
    "    This function will make a pretty plot of an sklearn Confusion Matrix cm using a Seaborn heatmap visualization.\n",
    "    Arguments\n",
    "    ---------\n",
    "    cf:            confusion matrix to be passed in\n",
    "    group_names:   List of strings that represent the labels row by row to be shown in each square.\n",
    "    categories:    List of strings containing the categories to be displayed on the x,y axis. Default is 'auto'\n",
    "    count:         If True, show the raw number in the confusion matrix. Default is True.\n",
    "    normalize:     If True, show the proportions for each category. Default is True.\n",
    "    cbar:          If True, show the color bar. The cbar values are based off the values in the confusion matrix.\n",
    "                   Default is True.\n",
    "    xyticks:       If True, show x and y ticks. Default is True.\n",
    "    xyplotlabels:  If True, show 'True Label' and 'Predicted Label' on the figure. Default is True.\n",
    "    sum_stats:     If True, display summary statistics below the figure. Default is True.\n",
    "    figsize:       Tuple representing the figure size. Default will be the matplotlib rcParams value.\n",
    "    cmap:          Colormap of the values displayed from matplotlib.pyplot.cm. Default is 'Blues'\n",
    "                   See http://matplotlib.org/examples/color/colormaps_reference.html\n",
    "                   \n",
    "    title:         Title for the heatmap. Default is None.\n",
    "    '''\n",
    "\n",
    "\n",
    "    # CODE TO GENERATE TEXT INSIDE EACH SQUARE\n",
    "    blanks = ['' for i in range(cf.size)]\n",
    "\n",
    "    if group_names and len(group_names)==cf.size:\n",
    "        group_labels = [\"{}\\n\".format(value) for value in group_names]\n",
    "    else:\n",
    "        group_labels = blanks\n",
    "\n",
    "    if count:\n",
    "        group_counts = [\"{0:0.0f}\\n\".format(value) for value in cf.flatten()]\n",
    "    else:\n",
    "        group_counts = blanks\n",
    "\n",
    "    if percent:\n",
    "        group_percentages = [\"{0:.2%}\".format(value) for value in cf.flatten()/np.sum(cf)]\n",
    "    else:\n",
    "        group_percentages = blanks\n",
    "\n",
    "    box_labels = [f\"{v1}{v2}{v3}\".strip() for v1, v2, v3 in zip(group_labels,group_counts,group_percentages)]\n",
    "    box_labels = np.asarray(box_labels).reshape(cf.shape[0],cf.shape[1])\n",
    "\n",
    "\n",
    "    # CODE TO GENERATE SUMMARY STATISTICS & TEXT FOR SUMMARY STATS\n",
    "    if sum_stats:\n",
    "        #Accuracy is sum of diagonal divided by total observations\n",
    "        accuracy  = np.trace(cf) / float(np.sum(cf))\n",
    "\n",
    "        #if it is a binary confusion matrix, show some more stats\n",
    "        if len(cf)==2:\n",
    "            #Metrics for Binary Confusion Matrices\n",
    "            precision = cf[1,1] / sum(cf[:,1])\n",
    "            recall    = cf[1,1] / sum(cf[1,:])\n",
    "            f1_score  = 2*precision*recall / (precision + recall)\n",
    "            stats_text = \"\\n\\nAccuracy={:0.3f}\\nPrecision={:0.3f}\\nRecall={:0.3f}\\nF1 Score={:0.3f}\".format(\n",
    "                accuracy,precision,recall,f1_score)\n",
    "        else:\n",
    "            stats_text = \"\\n\\nAccuracy={:0.3f}\".format(accuracy)\n",
    "    else:\n",
    "        stats_text = \"\"\n",
    "\n",
    "\n",
    "    # SET FIGURE PARAMETERS ACCORDING TO OTHER ARGUMENTS\n",
    "    if figsize==None:\n",
    "        #Get default figure size if not set\n",
    "        figsize = plt.rcParams.get('figure.figsize')\n",
    "\n",
    "    if xyticks==False:\n",
    "        #Do not show categories if xyticks is False\n",
    "        categories=False\n",
    "\n",
    "\n",
    "    # MAKE THE HEATMAP VISUALIZATION\n",
    "    plt.figure(figsize=figsize)\n",
    "    sns_plot = sns.heatmap(cf,annot=box_labels,fmt=\"\",cmap=cmap,cbar=cbar,xticklabels=categories,yticklabels=categories)\n",
    "\n",
    "    if xyplotlabels:\n",
    "        plt.ylabel('True label')\n",
    "        plt.xlabel('Predicted label' + stats_text)\n",
    "    else:\n",
    "        plt.xlabel(stats_text)\n",
    "    \n",
    "    if title:\n",
    "        plt.title(title)\n",
    "        \n",
    "    if fig_name:\n",
    "        figure = sns_plot.get_figure()\n",
    "        figure.savefig(fig_name)\n",
    "        \n",
    "        print(f\"Saved: {fig_name}\")"
   ]
  },
  {
   "cell_type": "markdown",
   "metadata": {},
   "source": [
    "# *Binary Classification tests*"
   ]
  },
  {
   "cell_type": "code",
   "execution_count": 31,
   "metadata": {},
   "outputs": [
    {
     "data": {
      "text/html": [
       "<div>\n",
       "<style scoped>\n",
       "    .dataframe tbody tr th:only-of-type {\n",
       "        vertical-align: middle;\n",
       "    }\n",
       "\n",
       "    .dataframe tbody tr th {\n",
       "        vertical-align: top;\n",
       "    }\n",
       "\n",
       "    .dataframe thead th {\n",
       "        text-align: right;\n",
       "    }\n",
       "</style>\n",
       "<table border=\"1\" class=\"dataframe\">\n",
       "  <thead>\n",
       "    <tr style=\"text-align: right;\">\n",
       "      <th></th>\n",
       "      <th>name</th>\n",
       "      <th>contrast</th>\n",
       "      <th>dissimilarity</th>\n",
       "      <th>homogeneity</th>\n",
       "      <th>correlation</th>\n",
       "      <th>energy</th>\n",
       "      <th>label</th>\n",
       "    </tr>\n",
       "  </thead>\n",
       "  <tbody>\n",
       "    <tr>\n",
       "      <th>0</th>\n",
       "      <td>DSC_0100_Brown spot_10_binary.npy</td>\n",
       "      <td>64.003665</td>\n",
       "      <td>0.250995</td>\n",
       "      <td>0.999016</td>\n",
       "      <td>0.953311</td>\n",
       "      <td>0.988906</td>\n",
       "      <td>0</td>\n",
       "    </tr>\n",
       "    <tr>\n",
       "      <th>1</th>\n",
       "      <td>DSC_0100_Brown spot_11_binary.npy</td>\n",
       "      <td>73.536126</td>\n",
       "      <td>0.288377</td>\n",
       "      <td>0.998869</td>\n",
       "      <td>0.951997</td>\n",
       "      <td>0.987579</td>\n",
       "      <td>0</td>\n",
       "    </tr>\n",
       "    <tr>\n",
       "      <th>2</th>\n",
       "      <td>DSC_0100_Brown spot_12_binary.npy</td>\n",
       "      <td>58.556545</td>\n",
       "      <td>0.229634</td>\n",
       "      <td>0.999099</td>\n",
       "      <td>0.954353</td>\n",
       "      <td>0.989632</td>\n",
       "      <td>0</td>\n",
       "    </tr>\n",
       "    <tr>\n",
       "      <th>3</th>\n",
       "      <td>DSC_0100_Brown spot_13_binary.npy</td>\n",
       "      <td>59.918325</td>\n",
       "      <td>0.234974</td>\n",
       "      <td>0.999079</td>\n",
       "      <td>0.954955</td>\n",
       "      <td>0.989254</td>\n",
       "      <td>0</td>\n",
       "    </tr>\n",
       "    <tr>\n",
       "      <th>4</th>\n",
       "      <td>DSC_0100_Brown spot_14_binary.npy</td>\n",
       "      <td>61.280105</td>\n",
       "      <td>0.240314</td>\n",
       "      <td>0.999058</td>\n",
       "      <td>0.956024</td>\n",
       "      <td>0.988751</td>\n",
       "      <td>0</td>\n",
       "    </tr>\n",
       "  </tbody>\n",
       "</table>\n",
       "</div>"
      ],
      "text/plain": [
       "                                name   contrast  dissimilarity  homogeneity  \\\n",
       "0  DSC_0100_Brown spot_10_binary.npy  64.003665       0.250995     0.999016   \n",
       "1  DSC_0100_Brown spot_11_binary.npy  73.536126       0.288377     0.998869   \n",
       "2  DSC_0100_Brown spot_12_binary.npy  58.556545       0.229634     0.999099   \n",
       "3  DSC_0100_Brown spot_13_binary.npy  59.918325       0.234974     0.999079   \n",
       "4  DSC_0100_Brown spot_14_binary.npy  61.280105       0.240314     0.999058   \n",
       "\n",
       "   correlation    energy  label  \n",
       "0     0.953311  0.988906      0  \n",
       "1     0.951997  0.987579      0  \n",
       "2     0.954353  0.989632      0  \n",
       "3     0.954955  0.989254      0  \n",
       "4     0.956024  0.988751      0  "
      ]
     },
     "execution_count": 31,
     "metadata": {},
     "output_type": "execute_result"
    }
   ],
   "source": [
    "b_df.head()"
   ]
  },
  {
   "cell_type": "code",
   "execution_count": 32,
   "metadata": {},
   "outputs": [
    {
     "data": {
      "text/html": [
       "<div>\n",
       "<style scoped>\n",
       "    .dataframe tbody tr th:only-of-type {\n",
       "        vertical-align: middle;\n",
       "    }\n",
       "\n",
       "    .dataframe tbody tr th {\n",
       "        vertical-align: top;\n",
       "    }\n",
       "\n",
       "    .dataframe thead th {\n",
       "        text-align: right;\n",
       "    }\n",
       "</style>\n",
       "<table border=\"1\" class=\"dataframe\">\n",
       "  <thead>\n",
       "    <tr style=\"text-align: right;\">\n",
       "      <th></th>\n",
       "      <th>name</th>\n",
       "      <th>contrast</th>\n",
       "      <th>dissimilarity</th>\n",
       "      <th>homogeneity</th>\n",
       "      <th>correlation</th>\n",
       "      <th>energy</th>\n",
       "      <th>label</th>\n",
       "    </tr>\n",
       "  </thead>\n",
       "  <tbody>\n",
       "    <tr>\n",
       "      <th>0</th>\n",
       "      <td>DSC_0100_Brown spot_10_binary.npy</td>\n",
       "      <td>64.003665</td>\n",
       "      <td>0.250995</td>\n",
       "      <td>0.999016</td>\n",
       "      <td>0.953311</td>\n",
       "      <td>0.988906</td>\n",
       "      <td>0</td>\n",
       "    </tr>\n",
       "    <tr>\n",
       "      <th>1</th>\n",
       "      <td>DSC_0100_Brown spot_11_binary.npy</td>\n",
       "      <td>73.536126</td>\n",
       "      <td>0.288377</td>\n",
       "      <td>0.998869</td>\n",
       "      <td>0.951997</td>\n",
       "      <td>0.987579</td>\n",
       "      <td>0</td>\n",
       "    </tr>\n",
       "    <tr>\n",
       "      <th>2</th>\n",
       "      <td>DSC_0100_Brown spot_12_binary.npy</td>\n",
       "      <td>58.556545</td>\n",
       "      <td>0.229634</td>\n",
       "      <td>0.999099</td>\n",
       "      <td>0.954353</td>\n",
       "      <td>0.989632</td>\n",
       "      <td>0</td>\n",
       "    </tr>\n",
       "    <tr>\n",
       "      <th>3</th>\n",
       "      <td>DSC_0100_Brown spot_13_binary.npy</td>\n",
       "      <td>59.918325</td>\n",
       "      <td>0.234974</td>\n",
       "      <td>0.999079</td>\n",
       "      <td>0.954955</td>\n",
       "      <td>0.989254</td>\n",
       "      <td>0</td>\n",
       "    </tr>\n",
       "    <tr>\n",
       "      <th>4</th>\n",
       "      <td>DSC_0100_Brown spot_14_binary.npy</td>\n",
       "      <td>61.280105</td>\n",
       "      <td>0.240314</td>\n",
       "      <td>0.999058</td>\n",
       "      <td>0.956024</td>\n",
       "      <td>0.988751</td>\n",
       "      <td>0</td>\n",
       "    </tr>\n",
       "  </tbody>\n",
       "</table>\n",
       "</div>"
      ],
      "text/plain": [
       "                                name   contrast  dissimilarity  homogeneity  \\\n",
       "0  DSC_0100_Brown spot_10_binary.npy  64.003665       0.250995     0.999016   \n",
       "1  DSC_0100_Brown spot_11_binary.npy  73.536126       0.288377     0.998869   \n",
       "2  DSC_0100_Brown spot_12_binary.npy  58.556545       0.229634     0.999099   \n",
       "3  DSC_0100_Brown spot_13_binary.npy  59.918325       0.234974     0.999079   \n",
       "4  DSC_0100_Brown spot_14_binary.npy  61.280105       0.240314     0.999058   \n",
       "\n",
       "   correlation    energy  label  \n",
       "0     0.953311  0.988906      0  \n",
       "1     0.951997  0.987579      0  \n",
       "2     0.954353  0.989632      0  \n",
       "3     0.954955  0.989254      0  \n",
       "4     0.956024  0.988751      0  "
      ]
     },
     "execution_count": 32,
     "metadata": {},
     "output_type": "execute_result"
    }
   ],
   "source": [
    "b_df.head()"
   ]
  },
  {
   "cell_type": "code",
   "execution_count": 33,
   "metadata": {},
   "outputs": [],
   "source": [
    "b_df = b_df.sample(frac=1).reset_index(drop=True)"
   ]
  },
  {
   "cell_type": "code",
   "execution_count": 34,
   "metadata": {},
   "outputs": [
    {
     "data": {
      "text/html": [
       "<div>\n",
       "<style scoped>\n",
       "    .dataframe tbody tr th:only-of-type {\n",
       "        vertical-align: middle;\n",
       "    }\n",
       "\n",
       "    .dataframe tbody tr th {\n",
       "        vertical-align: top;\n",
       "    }\n",
       "\n",
       "    .dataframe thead th {\n",
       "        text-align: right;\n",
       "    }\n",
       "</style>\n",
       "<table border=\"1\" class=\"dataframe\">\n",
       "  <thead>\n",
       "    <tr style=\"text-align: right;\">\n",
       "      <th></th>\n",
       "      <th>name</th>\n",
       "      <th>contrast</th>\n",
       "      <th>dissimilarity</th>\n",
       "      <th>homogeneity</th>\n",
       "      <th>correlation</th>\n",
       "      <th>energy</th>\n",
       "      <th>label</th>\n",
       "    </tr>\n",
       "  </thead>\n",
       "  <tbody>\n",
       "    <tr>\n",
       "      <th>0</th>\n",
       "      <td>DSC_0397_Bacterial leaf blight_28_binary.npy</td>\n",
       "      <td>16.045854</td>\n",
       "      <td>0.080738</td>\n",
       "      <td>0.995344</td>\n",
       "      <td>0.985769</td>\n",
       "      <td>0.988859</td>\n",
       "      <td>0</td>\n",
       "    </tr>\n",
       "    <tr>\n",
       "      <th>1</th>\n",
       "      <td>DSC_0392_Bacterial leaf blight_8_binary.npy</td>\n",
       "      <td>24.655884</td>\n",
       "      <td>0.119870</td>\n",
       "      <td>0.995009</td>\n",
       "      <td>0.986611</td>\n",
       "      <td>0.981922</td>\n",
       "      <td>0</td>\n",
       "    </tr>\n",
       "    <tr>\n",
       "      <th>2</th>\n",
       "      <td>DSC_0503_Leaf smut_77_binary.npy</td>\n",
       "      <td>47.656056</td>\n",
       "      <td>0.188184</td>\n",
       "      <td>0.998873</td>\n",
       "      <td>0.966921</td>\n",
       "      <td>0.988463</td>\n",
       "      <td>0</td>\n",
       "    </tr>\n",
       "    <tr>\n",
       "      <th>3</th>\n",
       "      <td>DSC_0301_Brown spot_10_binary.npy</td>\n",
       "      <td>14.952817</td>\n",
       "      <td>0.073955</td>\n",
       "      <td>0.995878</td>\n",
       "      <td>0.986961</td>\n",
       "      <td>0.988777</td>\n",
       "      <td>0</td>\n",
       "    </tr>\n",
       "    <tr>\n",
       "      <th>4</th>\n",
       "      <td>DSC_0392_Bacterial leaf blight_15_binary.npy</td>\n",
       "      <td>19.926495</td>\n",
       "      <td>0.093102</td>\n",
       "      <td>0.995899</td>\n",
       "      <td>0.987389</td>\n",
       "      <td>0.985171</td>\n",
       "      <td>0</td>\n",
       "    </tr>\n",
       "    <tr>\n",
       "      <th>5</th>\n",
       "      <td>DSC_0385_Bacterial leaf blight_72_binary.npy</td>\n",
       "      <td>4.564285</td>\n",
       "      <td>0.048259</td>\n",
       "      <td>0.994170</td>\n",
       "      <td>0.988630</td>\n",
       "      <td>0.990330</td>\n",
       "      <td>0</td>\n",
       "    </tr>\n",
       "    <tr>\n",
       "      <th>6</th>\n",
       "      <td>DSC_0335_Leaf smut_31_binary.npy</td>\n",
       "      <td>14.479869</td>\n",
       "      <td>0.071439</td>\n",
       "      <td>0.996626</td>\n",
       "      <td>0.986734</td>\n",
       "      <td>0.989376</td>\n",
       "      <td>0</td>\n",
       "    </tr>\n",
       "    <tr>\n",
       "      <th>7</th>\n",
       "      <td>DSC_0384_Bacterial leaf blight_70_binary.npy</td>\n",
       "      <td>2.141393</td>\n",
       "      <td>0.034745</td>\n",
       "      <td>0.994728</td>\n",
       "      <td>0.989556</td>\n",
       "      <td>0.991890</td>\n",
       "      <td>0</td>\n",
       "    </tr>\n",
       "    <tr>\n",
       "      <th>8</th>\n",
       "      <td>DSC_0372_Bacterial leaf blight_51_binary.npy</td>\n",
       "      <td>3.441429</td>\n",
       "      <td>0.045660</td>\n",
       "      <td>0.992873</td>\n",
       "      <td>0.991291</td>\n",
       "      <td>0.986653</td>\n",
       "      <td>1</td>\n",
       "    </tr>\n",
       "    <tr>\n",
       "      <th>9</th>\n",
       "      <td>DSC_0309_Leaf smut_64_binary.npy</td>\n",
       "      <td>9.876681</td>\n",
       "      <td>0.050581</td>\n",
       "      <td>0.996488</td>\n",
       "      <td>0.991648</td>\n",
       "      <td>0.988409</td>\n",
       "      <td>1</td>\n",
       "    </tr>\n",
       "    <tr>\n",
       "      <th>10</th>\n",
       "      <td>DSC_0512_Leaf smut_71_binary.npy</td>\n",
       "      <td>62.927419</td>\n",
       "      <td>0.246774</td>\n",
       "      <td>0.999032</td>\n",
       "      <td>0.954142</td>\n",
       "      <td>0.988903</td>\n",
       "      <td>0</td>\n",
       "    </tr>\n",
       "    <tr>\n",
       "      <th>11</th>\n",
       "      <td>DSC_0106_Brown spot_70_binary.npy</td>\n",
       "      <td>13.899511</td>\n",
       "      <td>0.055060</td>\n",
       "      <td>0.999591</td>\n",
       "      <td>0.979783</td>\n",
       "      <td>0.994578</td>\n",
       "      <td>1</td>\n",
       "    </tr>\n",
       "    <tr>\n",
       "      <th>12</th>\n",
       "      <td>DSC_0117_Brown spot_79_binary.npy</td>\n",
       "      <td>51.621009</td>\n",
       "      <td>0.403763</td>\n",
       "      <td>0.986303</td>\n",
       "      <td>0.925018</td>\n",
       "      <td>0.983913</td>\n",
       "      <td>0</td>\n",
       "    </tr>\n",
       "    <tr>\n",
       "      <th>13</th>\n",
       "      <td>DSC_0329_Brown spot_72_binary.npy</td>\n",
       "      <td>8.720321</td>\n",
       "      <td>0.043718</td>\n",
       "      <td>0.997096</td>\n",
       "      <td>0.991719</td>\n",
       "      <td>0.989833</td>\n",
       "      <td>0</td>\n",
       "    </tr>\n",
       "    <tr>\n",
       "      <th>14</th>\n",
       "      <td>DSC_0295_Brown spot_7_binary.npy</td>\n",
       "      <td>21.545948</td>\n",
       "      <td>0.099085</td>\n",
       "      <td>0.996292</td>\n",
       "      <td>0.984362</td>\n",
       "      <td>0.987097</td>\n",
       "      <td>0</td>\n",
       "    </tr>\n",
       "    <tr>\n",
       "      <th>15</th>\n",
       "      <td>DSC_0320_Leaf smut_66_binary.npy</td>\n",
       "      <td>20.887904</td>\n",
       "      <td>0.098060</td>\n",
       "      <td>0.995629</td>\n",
       "      <td>0.987325</td>\n",
       "      <td>0.984591</td>\n",
       "      <td>0</td>\n",
       "    </tr>\n",
       "    <tr>\n",
       "      <th>16</th>\n",
       "      <td>DSC_0317_Leaf smut_15_binary.npy</td>\n",
       "      <td>14.349440</td>\n",
       "      <td>0.072164</td>\n",
       "      <td>0.996113</td>\n",
       "      <td>0.986613</td>\n",
       "      <td>0.988991</td>\n",
       "      <td>0</td>\n",
       "    </tr>\n",
       "    <tr>\n",
       "      <th>17</th>\n",
       "      <td>DSC_0379_Bacterial leaf blight_8_binary.npy</td>\n",
       "      <td>14.421542</td>\n",
       "      <td>0.066283</td>\n",
       "      <td>0.997298</td>\n",
       "      <td>0.987113</td>\n",
       "      <td>0.989712</td>\n",
       "      <td>0</td>\n",
       "    </tr>\n",
       "    <tr>\n",
       "      <th>18</th>\n",
       "      <td>DSC_0376_Bacterial leaf blight_64_binary.npy</td>\n",
       "      <td>3.460942</td>\n",
       "      <td>0.045686</td>\n",
       "      <td>0.993026</td>\n",
       "      <td>0.990790</td>\n",
       "      <td>0.987148</td>\n",
       "      <td>0</td>\n",
       "    </tr>\n",
       "    <tr>\n",
       "      <th>19</th>\n",
       "      <td>DSC_0703_Bacterial leaf blight_81_binary.npy</td>\n",
       "      <td>15.461132</td>\n",
       "      <td>0.075206</td>\n",
       "      <td>0.996814</td>\n",
       "      <td>0.987386</td>\n",
       "      <td>0.987604</td>\n",
       "      <td>0</td>\n",
       "    </tr>\n",
       "  </tbody>\n",
       "</table>\n",
       "</div>"
      ],
      "text/plain": [
       "                                            name   contrast  dissimilarity  \\\n",
       "0   DSC_0397_Bacterial leaf blight_28_binary.npy  16.045854       0.080738   \n",
       "1    DSC_0392_Bacterial leaf blight_8_binary.npy  24.655884       0.119870   \n",
       "2               DSC_0503_Leaf smut_77_binary.npy  47.656056       0.188184   \n",
       "3              DSC_0301_Brown spot_10_binary.npy  14.952817       0.073955   \n",
       "4   DSC_0392_Bacterial leaf blight_15_binary.npy  19.926495       0.093102   \n",
       "5   DSC_0385_Bacterial leaf blight_72_binary.npy   4.564285       0.048259   \n",
       "6               DSC_0335_Leaf smut_31_binary.npy  14.479869       0.071439   \n",
       "7   DSC_0384_Bacterial leaf blight_70_binary.npy   2.141393       0.034745   \n",
       "8   DSC_0372_Bacterial leaf blight_51_binary.npy   3.441429       0.045660   \n",
       "9               DSC_0309_Leaf smut_64_binary.npy   9.876681       0.050581   \n",
       "10              DSC_0512_Leaf smut_71_binary.npy  62.927419       0.246774   \n",
       "11             DSC_0106_Brown spot_70_binary.npy  13.899511       0.055060   \n",
       "12             DSC_0117_Brown spot_79_binary.npy  51.621009       0.403763   \n",
       "13             DSC_0329_Brown spot_72_binary.npy   8.720321       0.043718   \n",
       "14              DSC_0295_Brown spot_7_binary.npy  21.545948       0.099085   \n",
       "15              DSC_0320_Leaf smut_66_binary.npy  20.887904       0.098060   \n",
       "16              DSC_0317_Leaf smut_15_binary.npy  14.349440       0.072164   \n",
       "17   DSC_0379_Bacterial leaf blight_8_binary.npy  14.421542       0.066283   \n",
       "18  DSC_0376_Bacterial leaf blight_64_binary.npy   3.460942       0.045686   \n",
       "19  DSC_0703_Bacterial leaf blight_81_binary.npy  15.461132       0.075206   \n",
       "\n",
       "    homogeneity  correlation    energy  label  \n",
       "0      0.995344     0.985769  0.988859      0  \n",
       "1      0.995009     0.986611  0.981922      0  \n",
       "2      0.998873     0.966921  0.988463      0  \n",
       "3      0.995878     0.986961  0.988777      0  \n",
       "4      0.995899     0.987389  0.985171      0  \n",
       "5      0.994170     0.988630  0.990330      0  \n",
       "6      0.996626     0.986734  0.989376      0  \n",
       "7      0.994728     0.989556  0.991890      0  \n",
       "8      0.992873     0.991291  0.986653      1  \n",
       "9      0.996488     0.991648  0.988409      1  \n",
       "10     0.999032     0.954142  0.988903      0  \n",
       "11     0.999591     0.979783  0.994578      1  \n",
       "12     0.986303     0.925018  0.983913      0  \n",
       "13     0.997096     0.991719  0.989833      0  \n",
       "14     0.996292     0.984362  0.987097      0  \n",
       "15     0.995629     0.987325  0.984591      0  \n",
       "16     0.996113     0.986613  0.988991      0  \n",
       "17     0.997298     0.987113  0.989712      0  \n",
       "18     0.993026     0.990790  0.987148      0  \n",
       "19     0.996814     0.987386  0.987604      0  "
      ]
     },
     "execution_count": 34,
     "metadata": {},
     "output_type": "execute_result"
    }
   ],
   "source": [
    "b_df.head(20)"
   ]
  },
  {
   "cell_type": "code",
   "execution_count": 35,
   "metadata": {},
   "outputs": [
    {
     "data": {
      "text/plain": [
       "0    6943\n",
       "1    2481\n",
       "Name: label, dtype: int64"
      ]
     },
     "execution_count": 35,
     "metadata": {},
     "output_type": "execute_result"
    }
   ],
   "source": [
    "b_df['label'].value_counts()"
   ]
  },
  {
   "cell_type": "code",
   "execution_count": 36,
   "metadata": {},
   "outputs": [],
   "source": [
    "X = b_df.iloc[:, 1:-1].values\n",
    "y = b_df['label'].values"
   ]
  },
  {
   "cell_type": "code",
   "execution_count": 37,
   "metadata": {},
   "outputs": [
    {
     "name": "stdout",
     "output_type": "stream",
     "text": [
      "Before sampling: Counter({0: 4652, 1: 1662})\n",
      "Accuracy: 0.6909967845659164\n",
      "                   pre       rec       spe        f1       geo       iba       sup\n",
      "\n",
      "          0       0.84      0.72      0.61      0.77      0.66      0.45      2291\n",
      "          1       0.44      0.61      0.72      0.51      0.66      0.44       819\n",
      "\n",
      "avg / total       0.73      0.69      0.64      0.70      0.66      0.44      3110\n",
      "\n"
     ]
    }
   ],
   "source": [
    "lr = LogisticRegression()\n",
    "sampler = SMOTETomek()\n",
    "\n",
    "res = pipeline_prediction(X, y, model=lr, sampler=sampler)"
   ]
  },
  {
   "cell_type": "code",
   "execution_count": 21,
   "metadata": {},
   "outputs": [],
   "source": [
    "lr = LogisticRegression(class_weight='balanced')\n"
   ]
  },
  {
   "cell_type": "code",
   "execution_count": 22,
   "metadata": {},
   "outputs": [
    {
     "name": "stdout",
     "output_type": "stream",
     "text": [
      "Before sampling: Counter({0: 4652, 1: 1662})\n",
      "Accuracy: 0.6884244372990354\n",
      "                   pre       rec       spe        f1       geo       iba       sup\n",
      "\n",
      "          0       0.85      0.70      0.64      0.77      0.67      0.46      2291\n",
      "          1       0.44      0.64      0.70      0.52      0.67      0.45       819\n",
      "\n",
      "avg / total       0.74      0.69      0.66      0.70      0.67      0.45      3110\n",
      "\n"
     ]
    },
    {
     "data": {
      "image/png": "[encoded data removed]",
      "text/plain": [
       "<Figure size 432x288 with 2 Axes>"
      ]
     },
     "metadata": {
      "needs_background": "light"
     },
     "output_type": "display_data"
    }
   ],
   "source": [
    "_ = pipeline_prediction(X, y, lr)"
   ]
  },
  {
   "cell_type": "markdown",
   "metadata": {},
   "source": [
    "\n",
    "#### Note: I have used `.sample(frac=1)` to shuffle each Dataframe."
   ]
  },
  {
   "cell_type": "code",
   "execution_count": 23,
   "metadata": {},
   "outputs": [
    {
     "name": "stdout",
     "output_type": "stream",
     "text": [
      "Original dataset shape Counter({0: 6943, 1: 2481})\n"
     ]
    }
   ],
   "source": [
    "print('Original dataset shape %s' % Counter(y))"
   ]
  },
  {
   "cell_type": "code",
   "execution_count": 24,
   "metadata": {},
   "outputs": [],
   "source": [
    "sm = SMOTE()\n",
    "X_res, y_res = sm.fit_resample(X, y)"
   ]
  },
  {
   "cell_type": "code",
   "execution_count": 25,
   "metadata": {},
   "outputs": [
    {
     "name": "stdout",
     "output_type": "stream",
     "text": [
      "Oversampled dataset shape Counter({0: 6943, 1: 6943})\n"
     ]
    }
   ],
   "source": [
    "print('Oversampled dataset shape %s' % Counter(y_res))`"
   ]
  },
  {
   "cell_type": "markdown",
   "metadata": {},
   "source": [
    "#### `SMOTE + LogisticRegression(class_weight='balanced')` results the same as in `SMOTE + LogisticRegression()`   "
   ]
  },
  {
   "cell_type": "code",
   "execution_count": 26,
   "metadata": {},
   "outputs": [],
   "source": [
    "?DecisionTreeClassifier"
   ]
  },
  {
   "cell_type": "code",
   "execution_count": 27,
   "metadata": {},
   "outputs": [],
   "source": [
    "dt = DecisionTreeClassifier(criterion='entropy', splitter='best')"
   ]
  },
  {
   "cell_type": "code",
   "execution_count": 28,
   "metadata": {},
   "outputs": [
    {
     "name": "stdout",
     "output_type": "stream",
     "text": [
      "Before sampling: Counter({0: 4652, 1: 1662})\n",
      "Accuracy: 0.6672025723472669\n",
      "                   pre       rec       spe        f1       geo       iba       sup\n",
      "\n",
      "          0       0.80      0.73      0.50      0.76      0.60      0.37      2291\n",
      "          1       0.39      0.50      0.73      0.44      0.60      0.35       819\n",
      "\n",
      "avg / total       0.69      0.67      0.56      0.68      0.60      0.37      3110\n",
      "\n"
     ]
    },
    {
     "data": {
      "image/png": "[encoded data removed]",
      "text/plain": [
       "<Figure size 432x288 with 2 Axes>"
      ]
     },
     "metadata": {
      "needs_background": "light"
     },
     "output_type": "display_data"
    }
   ],
   "source": [
    "_ = pipeline_prediction(X, y, model=dt, sampler=SMOTETomek())"
   ]
  },
  {
   "cell_type": "code",
   "execution_count": 29,
   "metadata": {},
   "outputs": [],
   "source": [
    "dt = DecisionTreeClassifier(criterion='entropy', splitter='best', class_weight='balanced')\n"
   ]
  },
  {
   "cell_type": "code",
   "execution_count": 30,
   "metadata": {},
   "outputs": [
    {
     "name": "stdout",
     "output_type": "stream",
     "text": [
      "Before sampling: Counter({0: 4652, 1: 1662})\n",
      "Accuracy: 0.6617363344051447\n",
      "                   pre       rec       spe        f1       geo       iba       sup\n",
      "\n",
      "          0       0.80      0.72      0.51      0.76      0.60      0.37      2291\n",
      "          1       0.39      0.51      0.72      0.44      0.60      0.36       819\n",
      "\n",
      "avg / total       0.69      0.66      0.56      0.67      0.60      0.37      3110\n",
      "\n"
     ]
    },
    {
     "data": {
      "image/png": "[encoded data removed]",
      "text/plain": [
       "<Figure size 432x288 with 2 Axes>"
      ]
     },
     "metadata": {
      "needs_background": "light"
     },
     "output_type": "display_data"
    }
   ],
   "source": [
    "_ = pipeline_prediction(X, y, model=dt, sampler=SMOTETomek())"
   ]
  },
  {
   "cell_type": "code",
   "execution_count": 31,
   "metadata": {},
   "outputs": [],
   "source": [
    "knn = KNeighborsClassifier(weights='distance')"
   ]
  },
  {
   "cell_type": "code",
   "execution_count": 32,
   "metadata": {},
   "outputs": [
    {
     "name": "stdout",
     "output_type": "stream",
     "text": [
      "Before sampling: Counter({0: 4652, 1: 1662})\n",
      "Accuracy: 0.6578778135048231\n",
      "                   pre       rec       spe        f1       geo       iba       sup\n",
      "\n",
      "          0       0.83      0.68      0.60      0.74      0.64      0.41      2291\n",
      "          1       0.40      0.60      0.68      0.48      0.64      0.40       819\n",
      "\n",
      "avg / total       0.71      0.66      0.62      0.68      0.64      0.41      3110\n",
      "\n"
     ]
    },
    {
     "data": {
      "image/png": "[encoded data removed]",
      "text/plain": [
       "<Figure size 432x288 with 2 Axes>"
      ]
     },
     "metadata": {
      "needs_background": "light"
     },
     "output_type": "display_data"
    }
   ],
   "source": [
    "_ = pipeline_prediction(X, y, model=knn, sampler=SMOTE())"
   ]
  },
  {
   "cell_type": "markdown",
   "metadata": {},
   "source": [
    "# Now let's try `Bagging`"
   ]
  },
  {
   "cell_type": "code",
   "execution_count": 33,
   "metadata": {
    "scrolled": false
   },
   "outputs": [],
   "source": [
    "\n",
    "dt_bag = BaggingClassifier(base_estimator=DecisionTreeClassifier(), n_estimators=100, n_jobs=10)\n"
   ]
  },
  {
   "cell_type": "code",
   "execution_count": 34,
   "metadata": {},
   "outputs": [
    {
     "name": "stdout",
     "output_type": "stream",
     "text": [
      "Before sampling: Counter({0: 4652, 1: 1662})\n",
      "Accuracy: 0.692604501607717\n",
      "                   pre       rec       spe        f1       geo       iba       sup\n",
      "\n",
      "          0       0.82      0.75      0.53      0.78      0.63      0.41      2291\n",
      "          1       0.43      0.53      0.75      0.48      0.63      0.39       819\n",
      "\n",
      "avg / total       0.72      0.69      0.59      0.70      0.63      0.40      3110\n",
      "\n"
     ]
    },
    {
     "data": {
      "image/png": "[encoded data removed]",
      "text/plain": [
       "<Figure size 432x288 with 2 Axes>"
      ]
     },
     "metadata": {
      "needs_background": "light"
     },
     "output_type": "display_data"
    }
   ],
   "source": [
    "_ = pipeline_prediction(X, y, model=dt_bag, sampler=SMOTETomek())"
   ]
  },
  {
   "cell_type": "code",
   "execution_count": 40,
   "metadata": {},
   "outputs": [
    {
     "name": "stdout",
     "output_type": "stream",
     "text": [
      "Before sampling: Counter({0: 4652, 1: 1662})\n",
      "Accuracy: 0.7003215434083602\n",
      "                   pre       rec       spe        f1       geo       iba       sup\n",
      "\n",
      "          0       0.81      0.77      0.51      0.79      0.63      0.40      2291\n",
      "          1       0.44      0.51      0.77      0.47      0.63      0.38       819\n",
      "\n",
      "avg / total       0.72      0.70      0.58      0.71      0.63      0.40      3110\n",
      "\n",
      "Saved: rf.jpg\n"
     ]
    },
    {
     "data": {
      "image/png": "[encoded data removed]",
      "text/plain": [
       "<Figure size 432x288 with 2 Axes>"
      ]
     },
     "metadata": {
      "needs_background": "light"
     },
     "output_type": "display_data"
    }
   ],
   "source": [
    "model = RandomForestClassifier()\n",
    "sampler = SMOTETomek()\n",
    "\n",
    "_ = pipeline_prediction(X, y, model=model, sampler=sampler, plot_confusion_matrix=True, filename=\"rf.jpg\")"
   ]
  },
  {
   "cell_type": "markdown",
   "metadata": {
    "pycharm": {
     "name": "#%% md\n"
    }
   },
   "source": [
    "## Boosting ⚡🔥"
   ]
  },
  {
   "cell_type": "code",
   "execution_count": 43,
   "metadata": {
    "pycharm": {
     "name": "#%%\n"
    },
    "scrolled": false
   },
   "outputs": [
    {
     "name": "stdout",
     "output_type": "stream",
     "text": [
      "Before sampling: Counter({0: 4652, 1: 1662})\n",
      "Accuracy: 0.6717041800643087\n",
      "                   pre       rec       spe        f1       geo       iba       sup\n",
      "\n",
      "          0       0.87      0.65      0.74      0.74      0.69      0.47      2291\n",
      "          1       0.43      0.74      0.65      0.54      0.69      0.48       819\n",
      "\n",
      "avg / total       0.76      0.67      0.71      0.69      0.69      0.48      3110\n",
      "\n"
     ]
    }
   ],
   "source": [
    "model = xgb.XGBClassifier()\n",
    "sampler = SMOTETomek()\n",
    "\n",
    "_ = pipeline_prediction(X, y, model=model, sampler=sampler)"
   ]
  },
  {
   "cell_type": "markdown",
   "metadata": {
    "pycharm": {
     "name": "#%% md\n"
    }
   },
   "source": [
    "# *Multi-class Classification*"
   ]
  },
  {
   "cell_type": "code",
   "execution_count": 42,
   "metadata": {
    "pycharm": {
     "name": "#%%\n"
    }
   },
   "outputs": [
    {
     "data": {
      "text/html": [
       "<div>\n",
       "<style scoped>\n",
       "    .dataframe tbody tr th:only-of-type {\n",
       "        vertical-align: middle;\n",
       "    }\n",
       "\n",
       "    .dataframe tbody tr th {\n",
       "        vertical-align: top;\n",
       "    }\n",
       "\n",
       "    .dataframe thead th {\n",
       "        text-align: right;\n",
       "    }\n",
       "</style>\n",
       "<table border=\"1\" class=\"dataframe\">\n",
       "  <thead>\n",
       "    <tr style=\"text-align: right;\">\n",
       "      <th></th>\n",
       "      <th>name</th>\n",
       "      <th>contrast</th>\n",
       "      <th>dissimilarity</th>\n",
       "      <th>homogeneity</th>\n",
       "      <th>correlation</th>\n",
       "      <th>energy</th>\n",
       "      <th>label</th>\n",
       "    </tr>\n",
       "  </thead>\n",
       "  <tbody>\n",
       "    <tr>\n",
       "      <th>0</th>\n",
       "      <td>DSC_0100_Brown spot_34_multiclass.npy</td>\n",
       "      <td>84.081099</td>\n",
       "      <td>0.337665</td>\n",
       "      <td>0.998142</td>\n",
       "      <td>0.948118</td>\n",
       "      <td>0.986702</td>\n",
       "      <td>1</td>\n",
       "    </tr>\n",
       "    <tr>\n",
       "      <th>1</th>\n",
       "      <td>DSC_0100_Brown spot_35_multiclass.npy</td>\n",
       "      <td>53.901455</td>\n",
       "      <td>0.222576</td>\n",
       "      <td>0.998778</td>\n",
       "      <td>0.956402</td>\n",
       "      <td>0.989780</td>\n",
       "      <td>1</td>\n",
       "    </tr>\n",
       "    <tr>\n",
       "      <th>2</th>\n",
       "      <td>DSC_0100_Brown spot_43_multiclass.npy</td>\n",
       "      <td>71.474377</td>\n",
       "      <td>0.288838</td>\n",
       "      <td>0.998007</td>\n",
       "      <td>0.954366</td>\n",
       "      <td>0.987098</td>\n",
       "      <td>1</td>\n",
       "    </tr>\n",
       "    <tr>\n",
       "      <th>3</th>\n",
       "      <td>DSC_0100_Brown spot_45_multiclass.npy</td>\n",
       "      <td>22.443047</td>\n",
       "      <td>0.236387</td>\n",
       "      <td>0.985251</td>\n",
       "      <td>0.978301</td>\n",
       "      <td>0.981649</td>\n",
       "      <td>1</td>\n",
       "    </tr>\n",
       "    <tr>\n",
       "      <th>4</th>\n",
       "      <td>DSC_0100_Brown spot_46_multiclass.npy</td>\n",
       "      <td>39.486052</td>\n",
       "      <td>0.294555</td>\n",
       "      <td>0.986651</td>\n",
       "      <td>0.961464</td>\n",
       "      <td>0.983676</td>\n",
       "      <td>1</td>\n",
       "    </tr>\n",
       "  </tbody>\n",
       "</table>\n",
       "</div>"
      ],
      "text/plain": [
       "                                    name   contrast  dissimilarity  \\\n",
       "0  DSC_0100_Brown spot_34_multiclass.npy  84.081099       0.337665   \n",
       "1  DSC_0100_Brown spot_35_multiclass.npy  53.901455       0.222576   \n",
       "2  DSC_0100_Brown spot_43_multiclass.npy  71.474377       0.288838   \n",
       "3  DSC_0100_Brown spot_45_multiclass.npy  22.443047       0.236387   \n",
       "4  DSC_0100_Brown spot_46_multiclass.npy  39.486052       0.294555   \n",
       "\n",
       "   homogeneity  correlation    energy  label  \n",
       "0     0.998142     0.948118  0.986702      1  \n",
       "1     0.998778     0.956402  0.989780      1  \n",
       "2     0.998007     0.954366  0.987098      1  \n",
       "3     0.985251     0.978301  0.981649      1  \n",
       "4     0.986651     0.961464  0.983676      1  "
      ]
     },
     "execution_count": 42,
     "metadata": {},
     "output_type": "execute_result"
    }
   ],
   "source": [
    "m_df.head()"
   ]
  },
  {
   "cell_type": "code",
   "execution_count": 44,
   "metadata": {},
   "outputs": [],
   "source": [
    "m_df.drop(m_df.columns[0], axis=1, inplace=True)"
   ]
  },
  {
   "cell_type": "code",
   "execution_count": 45,
   "metadata": {},
   "outputs": [
    {
     "data": {
      "text/html": [
       "<div>\n",
       "<style scoped>\n",
       "    .dataframe tbody tr th:only-of-type {\n",
       "        vertical-align: middle;\n",
       "    }\n",
       "\n",
       "    .dataframe tbody tr th {\n",
       "        vertical-align: top;\n",
       "    }\n",
       "\n",
       "    .dataframe thead th {\n",
       "        text-align: right;\n",
       "    }\n",
       "</style>\n",
       "<table border=\"1\" class=\"dataframe\">\n",
       "  <thead>\n",
       "    <tr style=\"text-align: right;\">\n",
       "      <th></th>\n",
       "      <th>contrast</th>\n",
       "      <th>dissimilarity</th>\n",
       "      <th>homogeneity</th>\n",
       "      <th>correlation</th>\n",
       "      <th>energy</th>\n",
       "      <th>label</th>\n",
       "    </tr>\n",
       "  </thead>\n",
       "  <tbody>\n",
       "    <tr>\n",
       "      <th>0</th>\n",
       "      <td>84.081099</td>\n",
       "      <td>0.337665</td>\n",
       "      <td>0.998142</td>\n",
       "      <td>0.948118</td>\n",
       "      <td>0.986702</td>\n",
       "      <td>1</td>\n",
       "    </tr>\n",
       "    <tr>\n",
       "      <th>1</th>\n",
       "      <td>53.901455</td>\n",
       "      <td>0.222576</td>\n",
       "      <td>0.998778</td>\n",
       "      <td>0.956402</td>\n",
       "      <td>0.989780</td>\n",
       "      <td>1</td>\n",
       "    </tr>\n",
       "    <tr>\n",
       "      <th>2</th>\n",
       "      <td>71.474377</td>\n",
       "      <td>0.288838</td>\n",
       "      <td>0.998007</td>\n",
       "      <td>0.954366</td>\n",
       "      <td>0.987098</td>\n",
       "      <td>1</td>\n",
       "    </tr>\n",
       "    <tr>\n",
       "      <th>3</th>\n",
       "      <td>22.443047</td>\n",
       "      <td>0.236387</td>\n",
       "      <td>0.985251</td>\n",
       "      <td>0.978301</td>\n",
       "      <td>0.981649</td>\n",
       "      <td>1</td>\n",
       "    </tr>\n",
       "    <tr>\n",
       "      <th>4</th>\n",
       "      <td>39.486052</td>\n",
       "      <td>0.294555</td>\n",
       "      <td>0.986651</td>\n",
       "      <td>0.961464</td>\n",
       "      <td>0.983676</td>\n",
       "      <td>1</td>\n",
       "    </tr>\n",
       "  </tbody>\n",
       "</table>\n",
       "</div>"
      ],
      "text/plain": [
       "    contrast  dissimilarity  homogeneity  correlation    energy  label\n",
       "0  84.081099       0.337665     0.998142     0.948118  0.986702      1\n",
       "1  53.901455       0.222576     0.998778     0.956402  0.989780      1\n",
       "2  71.474377       0.288838     0.998007     0.954366  0.987098      1\n",
       "3  22.443047       0.236387     0.985251     0.978301  0.981649      1\n",
       "4  39.486052       0.294555     0.986651     0.961464  0.983676      1"
      ]
     },
     "execution_count": 45,
     "metadata": {},
     "output_type": "execute_result"
    }
   ],
   "source": [
    "m_df.head()"
   ]
  },
  {
   "cell_type": "code",
   "execution_count": 46,
   "metadata": {},
   "outputs": [],
   "source": [
    "m_df = m_df.sample(frac=1).reset_index(drop=True)"
   ]
  },
  {
   "cell_type": "code",
   "execution_count": 47,
   "metadata": {},
   "outputs": [
    {
     "data": {
      "text/html": [
       "<div>\n",
       "<style scoped>\n",
       "    .dataframe tbody tr th:only-of-type {\n",
       "        vertical-align: middle;\n",
       "    }\n",
       "\n",
       "    .dataframe tbody tr th {\n",
       "        vertical-align: top;\n",
       "    }\n",
       "\n",
       "    .dataframe thead th {\n",
       "        text-align: right;\n",
       "    }\n",
       "</style>\n",
       "<table border=\"1\" class=\"dataframe\">\n",
       "  <thead>\n",
       "    <tr style=\"text-align: right;\">\n",
       "      <th></th>\n",
       "      <th>contrast</th>\n",
       "      <th>dissimilarity</th>\n",
       "      <th>homogeneity</th>\n",
       "      <th>correlation</th>\n",
       "      <th>energy</th>\n",
       "      <th>label</th>\n",
       "    </tr>\n",
       "  </thead>\n",
       "  <tbody>\n",
       "    <tr>\n",
       "      <th>0</th>\n",
       "      <td>13.419678</td>\n",
       "      <td>0.134647</td>\n",
       "      <td>0.995231</td>\n",
       "      <td>0.892752</td>\n",
       "      <td>0.994146</td>\n",
       "      <td>1</td>\n",
       "    </tr>\n",
       "    <tr>\n",
       "      <th>1</th>\n",
       "      <td>6.767611</td>\n",
       "      <td>0.079239</td>\n",
       "      <td>0.992187</td>\n",
       "      <td>0.976408</td>\n",
       "      <td>0.987300</td>\n",
       "      <td>0</td>\n",
       "    </tr>\n",
       "    <tr>\n",
       "      <th>2</th>\n",
       "      <td>5.007644</td>\n",
       "      <td>0.076171</td>\n",
       "      <td>0.992333</td>\n",
       "      <td>0.969218</td>\n",
       "      <td>0.986707</td>\n",
       "      <td>2</td>\n",
       "    </tr>\n",
       "    <tr>\n",
       "      <th>3</th>\n",
       "      <td>12.886946</td>\n",
       "      <td>0.176405</td>\n",
       "      <td>0.978144</td>\n",
       "      <td>0.989219</td>\n",
       "      <td>0.968602</td>\n",
       "      <td>0</td>\n",
       "    </tr>\n",
       "    <tr>\n",
       "      <th>4</th>\n",
       "      <td>113.930644</td>\n",
       "      <td>0.769750</td>\n",
       "      <td>0.985757</td>\n",
       "      <td>0.848117</td>\n",
       "      <td>0.984275</td>\n",
       "      <td>2</td>\n",
       "    </tr>\n",
       "    <tr>\n",
       "      <th>5</th>\n",
       "      <td>7.257744</td>\n",
       "      <td>0.116339</td>\n",
       "      <td>0.988056</td>\n",
       "      <td>0.978692</td>\n",
       "      <td>0.983241</td>\n",
       "      <td>2</td>\n",
       "    </tr>\n",
       "    <tr>\n",
       "      <th>6</th>\n",
       "      <td>18.757963</td>\n",
       "      <td>0.112490</td>\n",
       "      <td>0.993744</td>\n",
       "      <td>0.986796</td>\n",
       "      <td>0.981766</td>\n",
       "      <td>0</td>\n",
       "    </tr>\n",
       "    <tr>\n",
       "      <th>7</th>\n",
       "      <td>81.652335</td>\n",
       "      <td>0.628856</td>\n",
       "      <td>0.972995</td>\n",
       "      <td>0.940896</td>\n",
       "      <td>0.964687</td>\n",
       "      <td>1</td>\n",
       "    </tr>\n",
       "    <tr>\n",
       "      <th>8</th>\n",
       "      <td>1.610800</td>\n",
       "      <td>0.035905</td>\n",
       "      <td>0.994920</td>\n",
       "      <td>0.986222</td>\n",
       "      <td>0.992840</td>\n",
       "      <td>0</td>\n",
       "    </tr>\n",
       "    <tr>\n",
       "      <th>9</th>\n",
       "      <td>16.829880</td>\n",
       "      <td>0.121184</td>\n",
       "      <td>0.992101</td>\n",
       "      <td>0.985272</td>\n",
       "      <td>0.984548</td>\n",
       "      <td>2</td>\n",
       "    </tr>\n",
       "    <tr>\n",
       "      <th>10</th>\n",
       "      <td>10.442103</td>\n",
       "      <td>0.176535</td>\n",
       "      <td>0.988079</td>\n",
       "      <td>0.948664</td>\n",
       "      <td>0.984088</td>\n",
       "      <td>2</td>\n",
       "    </tr>\n",
       "    <tr>\n",
       "      <th>11</th>\n",
       "      <td>33.327893</td>\n",
       "      <td>0.313456</td>\n",
       "      <td>0.983170</td>\n",
       "      <td>0.964377</td>\n",
       "      <td>0.978353</td>\n",
       "      <td>1</td>\n",
       "    </tr>\n",
       "    <tr>\n",
       "      <th>12</th>\n",
       "      <td>59.665173</td>\n",
       "      <td>0.817843</td>\n",
       "      <td>0.956856</td>\n",
       "      <td>0.954508</td>\n",
       "      <td>0.950194</td>\n",
       "      <td>1</td>\n",
       "    </tr>\n",
       "    <tr>\n",
       "      <th>13</th>\n",
       "      <td>5.095003</td>\n",
       "      <td>0.083793</td>\n",
       "      <td>0.989742</td>\n",
       "      <td>0.986049</td>\n",
       "      <td>0.984545</td>\n",
       "      <td>2</td>\n",
       "    </tr>\n",
       "    <tr>\n",
       "      <th>14</th>\n",
       "      <td>14.087695</td>\n",
       "      <td>0.116061</td>\n",
       "      <td>0.995284</td>\n",
       "      <td>0.948607</td>\n",
       "      <td>0.993925</td>\n",
       "      <td>2</td>\n",
       "    </tr>\n",
       "    <tr>\n",
       "      <th>15</th>\n",
       "      <td>27.554785</td>\n",
       "      <td>0.213987</td>\n",
       "      <td>0.990193</td>\n",
       "      <td>0.960889</td>\n",
       "      <td>0.988401</td>\n",
       "      <td>1</td>\n",
       "    </tr>\n",
       "    <tr>\n",
       "      <th>16</th>\n",
       "      <td>5.480735</td>\n",
       "      <td>0.079281</td>\n",
       "      <td>0.991165</td>\n",
       "      <td>0.983543</td>\n",
       "      <td>0.986933</td>\n",
       "      <td>2</td>\n",
       "    </tr>\n",
       "    <tr>\n",
       "      <th>17</th>\n",
       "      <td>4.175922</td>\n",
       "      <td>0.052761</td>\n",
       "      <td>0.994848</td>\n",
       "      <td>0.978896</td>\n",
       "      <td>0.992230</td>\n",
       "      <td>0</td>\n",
       "    </tr>\n",
       "    <tr>\n",
       "      <th>18</th>\n",
       "      <td>6.105035</td>\n",
       "      <td>0.062764</td>\n",
       "      <td>0.993816</td>\n",
       "      <td>0.982617</td>\n",
       "      <td>0.988443</td>\n",
       "      <td>0</td>\n",
       "    </tr>\n",
       "    <tr>\n",
       "      <th>19</th>\n",
       "      <td>57.374557</td>\n",
       "      <td>0.225869</td>\n",
       "      <td>0.998853</td>\n",
       "      <td>0.966317</td>\n",
       "      <td>0.986347</td>\n",
       "      <td>1</td>\n",
       "    </tr>\n",
       "  </tbody>\n",
       "</table>\n",
       "</div>"
      ],
      "text/plain": [
       "      contrast  dissimilarity  homogeneity  correlation    energy  label\n",
       "0    13.419678       0.134647     0.995231     0.892752  0.994146      1\n",
       "1     6.767611       0.079239     0.992187     0.976408  0.987300      0\n",
       "2     5.007644       0.076171     0.992333     0.969218  0.986707      2\n",
       "3    12.886946       0.176405     0.978144     0.989219  0.968602      0\n",
       "4   113.930644       0.769750     0.985757     0.848117  0.984275      2\n",
       "5     7.257744       0.116339     0.988056     0.978692  0.983241      2\n",
       "6    18.757963       0.112490     0.993744     0.986796  0.981766      0\n",
       "7    81.652335       0.628856     0.972995     0.940896  0.964687      1\n",
       "8     1.610800       0.035905     0.994920     0.986222  0.992840      0\n",
       "9    16.829880       0.121184     0.992101     0.985272  0.984548      2\n",
       "10   10.442103       0.176535     0.988079     0.948664  0.984088      2\n",
       "11   33.327893       0.313456     0.983170     0.964377  0.978353      1\n",
       "12   59.665173       0.817843     0.956856     0.954508  0.950194      1\n",
       "13    5.095003       0.083793     0.989742     0.986049  0.984545      2\n",
       "14   14.087695       0.116061     0.995284     0.948607  0.993925      2\n",
       "15   27.554785       0.213987     0.990193     0.960889  0.988401      1\n",
       "16    5.480735       0.079281     0.991165     0.983543  0.986933      2\n",
       "17    4.175922       0.052761     0.994848     0.978896  0.992230      0\n",
       "18    6.105035       0.062764     0.993816     0.982617  0.988443      0\n",
       "19   57.374557       0.225869     0.998853     0.966317  0.986347      1"
      ]
     },
     "execution_count": 47,
     "metadata": {},
     "output_type": "execute_result"
    }
   ],
   "source": [
    "m_df.head(20)"
   ]
  },
  {
   "cell_type": "code",
   "execution_count": 48,
   "metadata": {},
   "outputs": [],
   "source": [
    "X = m_df.iloc[:, :-1]\n",
    "y = m_df['label']"
   ]
  },
  {
   "cell_type": "code",
   "execution_count": 53,
   "metadata": {},
   "outputs": [
    {
     "name": "stdout",
     "output_type": "stream",
     "text": [
      "Before sampling: Counter({2: 747, 1: 510, 0: 405})\n",
      "Accuracy: 0.6324786324786325\n",
      "                   pre       rec       spe        f1       geo       iba       sup\n",
      "\n",
      "          0       0.54      0.78      0.78      0.64      0.78      0.61       199\n",
      "          1       0.65      0.65      0.84      0.65      0.74      0.53       251\n",
      "          2       0.72      0.54      0.83      0.62      0.67      0.44       369\n",
      "\n",
      "avg / total       0.65      0.63      0.82      0.63      0.72      0.51       819\n",
      "\n"
     ]
    }
   ],
   "source": [
    "model = xgb.XGBClassifier()\n",
    "sampler = SMOTETomek()\n",
    "\n",
    "_ = pipeline_prediction(X, y, model=model, sampler=sampler)"
   ]
  },
  {
   "cell_type": "code",
   "execution_count": 51,
   "metadata": {},
   "outputs": [
    {
     "name": "stdout",
     "output_type": "stream",
     "text": [
      "Before sampling: Counter({2: 747, 1: 510, 0: 405})\n",
      "Accuracy: 0.6605616605616605\n",
      "                   pre       rec       spe        f1       geo       iba       sup\n",
      "\n",
      "          0       0.60      0.71      0.85      0.65      0.78      0.60       199\n",
      "          1       0.68      0.64      0.87      0.66      0.74      0.54       251\n",
      "          2       0.69      0.65      0.76      0.67      0.70      0.49       369\n",
      "\n",
      "avg / total       0.66      0.66      0.82      0.66      0.73      0.53       819\n",
      "\n"
     ]
    }
   ],
   "source": [
    "model = ExtraTreesClassifier()\n",
    "sampler = SMOTETomek()\n",
    "\n",
    "_ = pipeline_prediction(X, y, model=model, sampler=sampler)"
   ]
  },
  {
   "cell_type": "code",
   "execution_count": 48,
   "metadata": {},
   "outputs": [
    {
     "name": "stdout",
     "output_type": "stream",
     "text": [
      "Before sampling: Counter({2: 747, 1: 510, 0: 405})\n",
      "Accuracy: 0.525030525030525\n",
      "                   pre       rec       spe        f1       geo       iba       sup\n",
      "\n",
      "          0       0.50      0.65      0.79      0.56      0.72      0.51       199\n",
      "          1       0.51      0.30      0.87      0.38      0.51      0.25       251\n",
      "          2       0.55      0.61      0.58      0.58      0.60      0.36       369\n",
      "\n",
      "avg / total       0.52      0.53      0.72      0.51      0.60      0.36       819\n",
      "\n"
     ]
    },
    {
     "data": {
      "image/png": "[encoded data removed]",
      "text/plain": [
       "<Figure size 432x288 with 2 Axes>"
      ]
     },
     "metadata": {
      "needs_background": "light"
     },
     "output_type": "display_data"
    }
   ],
   "source": [
    "model = AdaBoostClassifier()\n",
    "sampler = ADASYN()\n",
    "\n",
    "_ = pipeline_prediction(X, y, model=model, sampler=sampler)"
   ]
  },
  {
   "cell_type": "code",
   "execution_count": 54,
   "metadata": {},
   "outputs": [
    {
     "name": "stdout",
     "output_type": "stream",
     "text": [
      "Before sampling: Counter({2: 747, 1: 510, 0: 405})\n",
      "Accuracy: 0.6581196581196581\n",
      "                   pre       rec       spe        f1       geo       iba       sup\n",
      "\n",
      "          0       0.59      0.72      0.84      0.65      0.78      0.60       199\n",
      "          1       0.68      0.69      0.86      0.68      0.77      0.58       251\n",
      "          2       0.69      0.61      0.78      0.65      0.69      0.46       369\n",
      "\n",
      "avg / total       0.66      0.66      0.82      0.66      0.73      0.53       819\n",
      "\n",
      "Saved: rf_mul.jpg\n"
     ]
    },
    {
     "data": {
      "image/png": "[encoded data removed]",
      "text/plain": [
       "<Figure size 432x288 with 2 Axes>"
      ]
     },
     "metadata": {
      "needs_background": "light"
     },
     "output_type": "display_data"
    }
   ],
   "source": [
    "model = RandomForestClassifier()\n",
    "sampler = SMOTETomek()\n",
    "\n",
    "_ = pipeline_prediction(X, y, model=model, sampler=sampler, plot_confusion_matrix=True, filename=\"rf_mul.jpg\")"
   ]
  },
  {
   "cell_type": "code",
   "execution_count": null,
   "metadata": {},
   "outputs": [],
   "source": []
  }
 ],
 "metadata": {
  "kernelspec": {
   "display_name": "Python 3",
   "language": "python",
   "name": "python3"
  },
  "language_info": {
   "codemirror_mode": {
    "name": "ipython",
    "version": 3
   },
   "file_extension": ".py",
   "mimetype": "text/x-python",
   "name": "python",
   "nbconvert_exporter": "python",
   "pygments_lexer": "ipython3",
   "version": "3.8.2"
  }
 },
 "nbformat": 4,
 "nbformat_minor": 4
}
