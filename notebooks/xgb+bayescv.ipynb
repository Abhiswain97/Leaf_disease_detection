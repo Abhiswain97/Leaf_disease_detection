{
 "cells": [
  {
   "cell_type": "code",
   "execution_count": 1,
   "metadata": {},
   "outputs": [],
   "source": [
    "import matplotlib.pyplot as plt\n",
    "import seaborn as sns\n",
    "import cv2\n",
    "import pandas as pd\n",
    "import metrics\n",
    "\n",
    "from metrics import ClassificationMetrics\n",
    "from handle_imbalance import Imbalance\n",
    "\n",
    "from sklearn.model_selection import train_test_split, GridSearchCV, StratifiedKFold\n",
    "from sklearn import linear_model, tree, ensemble, metrics\n",
    "from skopt import BayesSearchCV\n",
    "import xgboost as xgb\n",
    "from xgboost import XGBClassifier\n",
    "from catboost import CatBoostClassifier, Pool, cv\n",
    "\n",
    "from skimage.feature import greycomatrix, greycoprops\n",
    "from tqdm import tqdm\n",
    "import functools\n",
    "import time\n",
    "import warnings\n",
    "import numpy as np"
   ]
  },
  {
   "cell_type": "code",
   "execution_count": 2,
   "metadata": {},
   "outputs": [
    {
     "output_type": "stream",
     "name": "stdout",
     "text": "Using repeated_edited_nearest_neighbours\n"
    }
   ],
   "source": [
    "df = pd.read_csv('features(binary_classify)(RGB).csv')\n",
    "\n",
    "names = df['name'].values\n",
    "X = df.iloc[:, 1:5].values\n",
    "y = df['label'].values\n",
    "\n",
    "X_resampled, y_resampled = Imbalance()('repeated_edited_nearest_neighbours', X, y)\n",
    "\n",
    "X_train, X_test, y_train, y_test = train_test_split(X_resampled, y_resampled, test_size=0.25,\n",
    "                                                    random_state=42)\n",
    "\n",
    "print(f'Using repeated_edited_nearest_neighbours')"
   ]
  },
  {
   "cell_type": "code",
   "execution_count": 3,
   "metadata": {},
   "outputs": [
    {
     "output_type": "execute_result",
     "data": {
      "text/plain": "((5025, 4), (5025,))"
     },
     "metadata": {},
     "execution_count": 3
    }
   ],
   "source": [
    "X_resampled.shape, y_resampled.shape"
   ]
  },
  {
   "cell_type": "code",
   "execution_count": 5,
   "metadata": {},
   "outputs": [],
   "source": [
    "bayes_cv_tuner = BayesSearchCV(\n",
    "    estimator = xgb.XGBClassifier(\n",
    "        n_jobs = 1,\n",
    "        objective = 'binary:logistic',\n",
    "        eval_metric = 'auc',\n",
    "        silent=1,\n",
    "        tree_method='approx',\n",
    "        n_estimators=200\n",
    "    ),\n",
    "    search_spaces = {\n",
    "        'learning_rate': (0.01, 1.0, 'log-uniform'),\n",
    "        'max_depth': (1, 50),\n",
    "        'n_estimators': (50, 100),\n",
    "    },    \n",
    "    scoring = 'roc_auc',\n",
    "    cv = StratifiedKFold(\n",
    "        n_splits=3,\n",
    "        shuffle=True,\n",
    "        random_state=42\n",
    "    ),\n",
    "    n_jobs = 3,\n",
    "    n_iter = 20,   \n",
    "    verbose = 1,\n",
    "    refit = True,\n",
    "    random_state = 42\n",
    ")\n",
    "\n",
    "def status_print(optim_result):\n",
    "    \"\"\"Status callback durring bayesian hyperparameter search\"\"\"\n",
    "    \n",
    "    # Get all the models tested so far in DataFrame format\n",
    "    all_models = pd.DataFrame(bayes_cv_tuner.cv_results_)    \n",
    "    \n",
    "    # Get current parameters and the best parameters    \n",
    "    best_params = pd.Series(bayes_cv_tuner.best_params_)\n",
    "    print('Model #{}\\nBest ROC-AUC: {}\\nBest params: {}\\n'.format(\n",
    "        len(all_models),\n",
    "        np.round(bayes_cv_tuner.best_score_, 4),\n",
    "        bayes_cv_tuner.best_params_\n",
    "    ))\n",
    "    \n",
    "    # Save all model results\n",
    "    clf_name = bayes_cv_tuner.estimator.__class__.__name__\n",
    "    all_models.to_csv(clf_name+\"_cv_results.csv\")\n",
    "#"
   ]
  },
  {
   "cell_type": "code",
   "execution_count": 6,
   "metadata": {},
   "outputs": [
    {
     "output_type": "stream",
     "name": "stdout",
     "text": "Fitting 3 folds for each of 1 candidates, totalling 3 fits\n[Parallel(n_jobs=3)]: Using backend LokyBackend with 3 concurrent workers.\n[Parallel(n_jobs=3)]: Done   3 out of   3 | elapsed:    2.3s finished\nModel #1\nBest ROC-AUC: 0.921\nBest params: OrderedDict([('learning_rate', 0.06610098295419149), ('max_depth', 37), ('n_estimators', 97)])\n\nFitting 3 folds for each of 1 candidates, totalling 3 fits\n[Parallel(n_jobs=3)]: Using backend LokyBackend with 3 concurrent workers.\n[Parallel(n_jobs=3)]: Done   3 out of   3 | elapsed:    0.3s finished\n[Parallel(n_jobs=3)]: Using backend LokyBackend with 3 concurrent workers.\nModel #2\nBest ROC-AUC: 0.921\nBest params: OrderedDict([('learning_rate', 0.06610098295419149), ('max_depth', 37), ('n_estimators', 97)])\n\nFitting 3 folds for each of 1 candidates, totalling 3 fits\n[Parallel(n_jobs=3)]: Done   3 out of   3 | elapsed:    0.3s finished\n[Parallel(n_jobs=3)]: Using backend LokyBackend with 3 concurrent workers.\nModel #3\nBest ROC-AUC: 0.921\nBest params: OrderedDict([('learning_rate', 0.06610098295419149), ('max_depth', 37), ('n_estimators', 97)])\n\nFitting 3 folds for each of 1 candidates, totalling 3 fits\n[Parallel(n_jobs=3)]: Done   3 out of   3 | elapsed:    0.2s finished\n[Parallel(n_jobs=3)]: Using backend LokyBackend with 3 concurrent workers.\nModel #4\nBest ROC-AUC: 0.921\nBest params: OrderedDict([('learning_rate', 0.06610098295419149), ('max_depth', 37), ('n_estimators', 97)])\n\nFitting 3 folds for each of 1 candidates, totalling 3 fits\n[Parallel(n_jobs=3)]: Done   3 out of   3 | elapsed:    0.3s finished\n[Parallel(n_jobs=3)]: Using backend LokyBackend with 3 concurrent workers.\nModel #5\nBest ROC-AUC: 0.921\nBest params: OrderedDict([('learning_rate', 0.06610098295419149), ('max_depth', 37), ('n_estimators', 97)])\n\nFitting 3 folds for each of 1 candidates, totalling 3 fits\n[Parallel(n_jobs=3)]: Done   3 out of   3 | elapsed:    0.3s finished\n[Parallel(n_jobs=3)]: Using backend LokyBackend with 3 concurrent workers.\nModel #6\nBest ROC-AUC: 0.921\nBest params: OrderedDict([('learning_rate', 0.06610098295419149), ('max_depth', 37), ('n_estimators', 97)])\n\nFitting 3 folds for each of 1 candidates, totalling 3 fits\n[Parallel(n_jobs=3)]: Done   3 out of   3 | elapsed:    0.4s finished\n[Parallel(n_jobs=3)]: Using backend LokyBackend with 3 concurrent workers.\nModel #7\nBest ROC-AUC: 0.9212\nBest params: OrderedDict([('learning_rate', 0.1714583803805369), ('max_depth', 39), ('n_estimators', 68)])\n\nFitting 3 folds for each of 1 candidates, totalling 3 fits\n[Parallel(n_jobs=3)]: Done   3 out of   3 | elapsed:    0.5s finished\n[Parallel(n_jobs=3)]: Using backend LokyBackend with 3 concurrent workers.\nModel #8\nBest ROC-AUC: 0.9222\nBest params: OrderedDict([('learning_rate', 0.12212543829922852), ('max_depth', 46), ('n_estimators', 75)])\n\nFitting 3 folds for each of 1 candidates, totalling 3 fits\n[Parallel(n_jobs=3)]: Done   3 out of   3 | elapsed:    0.4s finished\nModel #9\nBest ROC-AUC: 0.9222\nBest params: OrderedDict([('learning_rate', 0.12212543829922852), ('max_depth', 46), ('n_estimators', 75)])\n\nFitting 3 folds for each of 1 candidates, totalling 3 fits\n[Parallel(n_jobs=3)]: Using backend LokyBackend with 3 concurrent workers.\n[Parallel(n_jobs=3)]: Done   3 out of   3 | elapsed:    0.5s finished\nModel #10\nBest ROC-AUC: 0.9222\nBest params: OrderedDict([('learning_rate', 0.12212543829922852), ('max_depth', 46), ('n_estimators', 75)])\n\nFitting 3 folds for each of 1 candidates, totalling 3 fits\n[Parallel(n_jobs=3)]: Using backend LokyBackend with 3 concurrent workers.\n[Parallel(n_jobs=3)]: Done   3 out of   3 | elapsed:    0.0s finished\nModel #11\nBest ROC-AUC: 0.9222\nBest params: OrderedDict([('learning_rate', 0.12212543829922852), ('max_depth', 46), ('n_estimators', 75)])\n\nFitting 3 folds for each of 1 candidates, totalling 3 fits\n[Parallel(n_jobs=3)]: Using backend LokyBackend with 3 concurrent workers.\n[Parallel(n_jobs=3)]: Done   3 out of   3 | elapsed:    0.2s finished\nModel #12\nBest ROC-AUC: 0.9222\nBest params: OrderedDict([('learning_rate', 0.12212543829922852), ('max_depth', 46), ('n_estimators', 75)])\n\nFitting 3 folds for each of 1 candidates, totalling 3 fits\n[Parallel(n_jobs=3)]: Using backend LokyBackend with 3 concurrent workers.\n[Parallel(n_jobs=3)]: Done   3 out of   3 | elapsed:    0.7s finished\nModel #13\nBest ROC-AUC: 0.9222\nBest params: OrderedDict([('learning_rate', 0.12212543829922852), ('max_depth', 46), ('n_estimators', 75)])\n\nFitting 3 folds for each of 1 candidates, totalling 3 fits\n[Parallel(n_jobs=3)]: Using backend LokyBackend with 3 concurrent workers.\n[Parallel(n_jobs=3)]: Done   3 out of   3 | elapsed:    0.4s finished\nModel #14\nBest ROC-AUC: 0.9222\nBest params: OrderedDict([('learning_rate', 0.12212543829922852), ('max_depth', 46), ('n_estimators', 75)])\n\nFitting 3 folds for each of 1 candidates, totalling 3 fits\n[Parallel(n_jobs=3)]: Using backend LokyBackend with 3 concurrent workers.\n[Parallel(n_jobs=3)]: Done   3 out of   3 | elapsed:    0.2s finished\nModel #15\nBest ROC-AUC: 0.9222\nBest params: OrderedDict([('learning_rate', 0.12212543829922852), ('max_depth', 46), ('n_estimators', 75)])\n\nFitting 3 folds for each of 1 candidates, totalling 3 fits\n[Parallel(n_jobs=3)]: Using backend LokyBackend with 3 concurrent workers.\n[Parallel(n_jobs=3)]: Done   3 out of   3 | elapsed:    0.7s finished\nModel #16\nBest ROC-AUC: 0.9222\nBest params: OrderedDict([('learning_rate', 0.12212543829922852), ('max_depth', 46), ('n_estimators', 75)])\n\nFitting 3 folds for each of 1 candidates, totalling 3 fits\n[Parallel(n_jobs=3)]: Using backend LokyBackend with 3 concurrent workers.\n[Parallel(n_jobs=3)]: Done   3 out of   3 | elapsed:    0.3s finished\nModel #17\nBest ROC-AUC: 0.9222\nBest params: OrderedDict([('learning_rate', 0.12212543829922852), ('max_depth', 46), ('n_estimators', 75)])\n\nFitting 3 folds for each of 1 candidates, totalling 3 fits\n[Parallel(n_jobs=3)]: Using backend LokyBackend with 3 concurrent workers.\n[Parallel(n_jobs=3)]: Done   3 out of   3 | elapsed:    0.6s finished\nModel #18\nBest ROC-AUC: 0.9223\nBest params: OrderedDict([('learning_rate', 0.20696925205293562), ('max_depth', 33), ('n_estimators', 100)])\n\nFitting 3 folds for each of 1 candidates, totalling 3 fits\n[Parallel(n_jobs=3)]: Using backend LokyBackend with 3 concurrent workers.\n[Parallel(n_jobs=3)]: Done   3 out of   3 | elapsed:    0.7s finished\nModel #19\nBest ROC-AUC: 0.9223\nBest params: OrderedDict([('learning_rate', 0.20696925205293562), ('max_depth', 33), ('n_estimators', 100)])\n\nFitting 3 folds for each of 1 candidates, totalling 3 fits\n[Parallel(n_jobs=3)]: Using backend LokyBackend with 3 concurrent workers.\n[Parallel(n_jobs=3)]: Done   3 out of   3 | elapsed:    0.0s finished\nModel #20\nBest ROC-AUC: 0.9223\nBest params: OrderedDict([('learning_rate', 0.20696925205293562), ('max_depth', 33), ('n_estimators', 100)])\n\n"
    }
   ],
   "source": [
    "result = bayes_cv_tuner.fit(X_train, y_train, callback=status_print)\n",
    ""
   ]
  },
  {
   "cell_type": "code",
   "execution_count": 8,
   "metadata": {},
   "outputs": [
    {
     "output_type": "execute_result",
     "data": {
      "text/plain": "0.9285341772151898"
     },
     "metadata": {},
     "execution_count": 8
    }
   ],
   "source": [
    "result.score(X_test, y_test)"
   ]
  },
  {
   "cell_type": "code",
   "execution_count": 10,
   "metadata": {},
   "outputs": [
    {
     "output_type": "execute_result",
     "data": {
      "text/plain": "('precision', 0.8733552631578947)"
     },
     "metadata": {},
     "execution_count": 10
    }
   ],
   "source": [
    "metric = ClassificationMetrics()\n",
    "'accuracy: ', metric('accuracy', y_test, result.predict(X_test))\n",
    "'precision', metric('precision', y_test, result.predict(X_test))\n",
    ""
   ]
  },
  {
   "cell_type": "code",
   "execution_count": null,
   "metadata": {},
   "outputs": [],
   "source": []
  }
 ],
 "metadata": {
  "kernelspec": {
   "display_name": "Python 3",
   "language": "python",
   "name": "python3"
  },
  "language_info": {
   "codemirror_mode": {
    "name": "ipython",
    "version": 3
   },
   "file_extension": ".py",
   "mimetype": "text/x-python",
   "name": "python",
   "nbconvert_exporter": "python",
   "pygments_lexer": "ipython3",
   "version": "3.8.2-final"
  }
 },
 "nbformat": 4,
 "nbformat_minor": 4
}